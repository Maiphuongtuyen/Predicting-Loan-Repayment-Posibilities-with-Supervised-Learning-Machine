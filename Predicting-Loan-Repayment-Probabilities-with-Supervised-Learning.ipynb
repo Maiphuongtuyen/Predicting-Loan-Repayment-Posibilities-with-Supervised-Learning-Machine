{
 "cells": [
  {
   "cell_type": "code",
   "execution_count": 1,
   "metadata": {},
   "outputs": [],
   "source": [
    "import re\n",
    "import os\n",
    "import pandas as pd\n",
    "import numpy as np\n",
    "import seaborn as sns\n",
    "import matplotlib.pyplot as plt\n",
    "import warnings\n",
    "warnings.filterwarnings(\"ignore\")"
   ]
  },
  {
   "cell_type": "code",
   "execution_count": 2,
   "metadata": {},
   "outputs": [],
   "source": [
    "url='https://drive.google.com/file/d/1_Fo48HcAE_yOPPYUtT0lvDWRaOpLkr0p/view?usp=sharing'\n",
    "url='https://drive.google.com/uc?id=' + url.split('/')[-2]\n",
    "df = pd.read_csv(url)"
   ]
  },
  {
   "cell_type": "code",
   "execution_count": 3,
   "metadata": {},
   "outputs": [
    {
     "name": "stdout",
     "output_type": "stream",
     "text": [
      "id column missing value: 0\n",
      "loan_amnt column missing value: 0\n",
      "term column missing value: 0\n",
      "int_rate column missing value: 0\n",
      "installment column missing value: 0\n",
      "sub_grade column missing value: 0\n",
      "emp_length column missing value: 16239\n",
      "home_ownership column missing value: 0\n",
      "annual_inc column missing value: 0\n",
      "verification_status column missing value: 0\n",
      "issue_d column missing value: 0\n",
      "loan_status column missing value: 0\n",
      "purpose column missing value: 0\n",
      "dti column missing value: 162\n",
      "fico_range_low column missing value: 0\n",
      "fico_range_high column missing value: 0\n",
      "open_acc column missing value: 0\n",
      "pub_rec column missing value: 0\n",
      "revol_bal column missing value: 0\n",
      "revol_util column missing value: 222\n",
      "total_acc column missing value: 0\n",
      "initial_list_status column missing value: 0\n",
      "application_type column missing value: 0\n",
      "mort_acc column missing value: 0\n",
      "pub_rec_bankruptcies column missing value: 0\n",
      "\n",
      "\n"
     ]
    }
   ],
   "source": [
    "#Handle missing values\n",
    "def display_missing(df):\n",
    "    for col in df.columns.tolist():\n",
    "        print('{} column missing value: {}'.format(col, df[col].isnull().sum()))\n",
    "    print('\\n')\n",
    "display_missing(df)"
   ]
  },
  {
   "cell_type": "code",
   "execution_count": 4,
   "metadata": {},
   "outputs": [],
   "source": [
    "#DELETE NULL VALUE\n",
    "df.dropna(subset=['emp_length'], inplace=True)\n",
    "df.dropna(subset=['revol_util'], inplace=True)\n",
    "df.dropna(subset=['dti'], inplace=True)"
   ]
  },
  {
   "cell_type": "code",
   "execution_count": 5,
   "metadata": {},
   "outputs": [
    {
     "data": {
      "text/html": [
       "<div>\n",
       "<style scoped>\n",
       "    .dataframe tbody tr th:only-of-type {\n",
       "        vertical-align: middle;\n",
       "    }\n",
       "\n",
       "    .dataframe tbody tr th {\n",
       "        vertical-align: top;\n",
       "    }\n",
       "\n",
       "    .dataframe thead th {\n",
       "        text-align: right;\n",
       "    }\n",
       "</style>\n",
       "<table border=\"1\" class=\"dataframe\">\n",
       "  <thead>\n",
       "    <tr style=\"text-align: right;\">\n",
       "      <th></th>\n",
       "      <th>id</th>\n",
       "      <th>loan_amnt</th>\n",
       "      <th>term</th>\n",
       "      <th>int_rate</th>\n",
       "      <th>installment</th>\n",
       "      <th>sub_grade</th>\n",
       "      <th>emp_length</th>\n",
       "      <th>home_ownership</th>\n",
       "      <th>annual_inc</th>\n",
       "      <th>verification_status</th>\n",
       "      <th>...</th>\n",
       "      <th>fico_range_low</th>\n",
       "      <th>fico_range_high</th>\n",
       "      <th>open_acc</th>\n",
       "      <th>pub_rec</th>\n",
       "      <th>revol_bal</th>\n",
       "      <th>revol_util</th>\n",
       "      <th>initial_list_status</th>\n",
       "      <th>application_type</th>\n",
       "      <th>mort_acc</th>\n",
       "      <th>pub_rec_bankruptcies</th>\n",
       "    </tr>\n",
       "  </thead>\n",
       "  <tbody>\n",
       "    <tr>\n",
       "      <th>0</th>\n",
       "      <td>85787116</td>\n",
       "      <td>28875</td>\n",
       "      <td>60 months</td>\n",
       "      <td>17.99</td>\n",
       "      <td>733.08</td>\n",
       "      <td>D2</td>\n",
       "      <td>6 years</td>\n",
       "      <td>RENT</td>\n",
       "      <td>99216.0</td>\n",
       "      <td>Verified</td>\n",
       "      <td>...</td>\n",
       "      <td>725</td>\n",
       "      <td>729</td>\n",
       "      <td>8</td>\n",
       "      <td>0</td>\n",
       "      <td>5541</td>\n",
       "      <td>29.0</td>\n",
       "      <td>w</td>\n",
       "      <td>Individual</td>\n",
       "      <td>0</td>\n",
       "      <td>0</td>\n",
       "    </tr>\n",
       "    <tr>\n",
       "      <th>1</th>\n",
       "      <td>85695514</td>\n",
       "      <td>15000</td>\n",
       "      <td>36 months</td>\n",
       "      <td>13.99</td>\n",
       "      <td>512.60</td>\n",
       "      <td>C3</td>\n",
       "      <td>5 years</td>\n",
       "      <td>MORTGAGE</td>\n",
       "      <td>60000.0</td>\n",
       "      <td>Not Verified</td>\n",
       "      <td>...</td>\n",
       "      <td>675</td>\n",
       "      <td>679</td>\n",
       "      <td>22</td>\n",
       "      <td>1</td>\n",
       "      <td>18976</td>\n",
       "      <td>48.0</td>\n",
       "      <td>w</td>\n",
       "      <td>Individual</td>\n",
       "      <td>1</td>\n",
       "      <td>1</td>\n",
       "    </tr>\n",
       "    <tr>\n",
       "      <th>2</th>\n",
       "      <td>85679829</td>\n",
       "      <td>10000</td>\n",
       "      <td>36 months</td>\n",
       "      <td>14.49</td>\n",
       "      <td>344.17</td>\n",
       "      <td>C4</td>\n",
       "      <td>10+ years</td>\n",
       "      <td>OWN</td>\n",
       "      <td>122000.0</td>\n",
       "      <td>Verified</td>\n",
       "      <td>...</td>\n",
       "      <td>660</td>\n",
       "      <td>664</td>\n",
       "      <td>11</td>\n",
       "      <td>0</td>\n",
       "      <td>17218</td>\n",
       "      <td>100.7</td>\n",
       "      <td>w</td>\n",
       "      <td>Individual</td>\n",
       "      <td>1</td>\n",
       "      <td>0</td>\n",
       "    </tr>\n",
       "    <tr>\n",
       "      <th>3</th>\n",
       "      <td>85735840</td>\n",
       "      <td>8525</td>\n",
       "      <td>36 months</td>\n",
       "      <td>28.88</td>\n",
       "      <td>356.69</td>\n",
       "      <td>G2</td>\n",
       "      <td>5 years</td>\n",
       "      <td>RENT</td>\n",
       "      <td>25000.0</td>\n",
       "      <td>Verified</td>\n",
       "      <td>...</td>\n",
       "      <td>675</td>\n",
       "      <td>679</td>\n",
       "      <td>7</td>\n",
       "      <td>0</td>\n",
       "      <td>3008</td>\n",
       "      <td>36.2</td>\n",
       "      <td>w</td>\n",
       "      <td>Individual</td>\n",
       "      <td>0</td>\n",
       "      <td>0</td>\n",
       "    </tr>\n",
       "    <tr>\n",
       "      <th>4</th>\n",
       "      <td>85734871</td>\n",
       "      <td>7350</td>\n",
       "      <td>36 months</td>\n",
       "      <td>21.49</td>\n",
       "      <td>278.77</td>\n",
       "      <td>D5</td>\n",
       "      <td>6 years</td>\n",
       "      <td>RENT</td>\n",
       "      <td>23000.0</td>\n",
       "      <td>Verified</td>\n",
       "      <td>...</td>\n",
       "      <td>670</td>\n",
       "      <td>674</td>\n",
       "      <td>5</td>\n",
       "      <td>1</td>\n",
       "      <td>5529</td>\n",
       "      <td>43.9</td>\n",
       "      <td>w</td>\n",
       "      <td>Individual</td>\n",
       "      <td>0</td>\n",
       "      <td>0</td>\n",
       "    </tr>\n",
       "  </tbody>\n",
       "</table>\n",
       "<p>5 rows × 24 columns</p>\n",
       "</div>"
      ],
      "text/plain": [
       "         id  loan_amnt        term  int_rate  installment sub_grade  \\\n",
       "0  85787116      28875   60 months     17.99       733.08        D2   \n",
       "1  85695514      15000   36 months     13.99       512.60        C3   \n",
       "2  85679829      10000   36 months     14.49       344.17        C4   \n",
       "3  85735840       8525   36 months     28.88       356.69        G2   \n",
       "4  85734871       7350   36 months     21.49       278.77        D5   \n",
       "\n",
       "  emp_length home_ownership  annual_inc verification_status  ...  \\\n",
       "0    6 years           RENT     99216.0            Verified  ...   \n",
       "1    5 years       MORTGAGE     60000.0        Not Verified  ...   \n",
       "2  10+ years            OWN    122000.0            Verified  ...   \n",
       "3    5 years           RENT     25000.0            Verified  ...   \n",
       "4    6 years           RENT     23000.0            Verified  ...   \n",
       "\n",
       "  fico_range_low fico_range_high open_acc  pub_rec  revol_bal  revol_util  \\\n",
       "0            725             729        8        0       5541        29.0   \n",
       "1            675             679       22        1      18976        48.0   \n",
       "2            660             664       11        0      17218       100.7   \n",
       "3            675             679        7        0       3008        36.2   \n",
       "4            670             674        5        1       5529        43.9   \n",
       "\n",
       "   initial_list_status  application_type  mort_acc  pub_rec_bankruptcies  \n",
       "0                    w        Individual         0                     0  \n",
       "1                    w        Individual         1                     1  \n",
       "2                    w        Individual         1                     0  \n",
       "3                    w        Individual         0                     0  \n",
       "4                    w        Individual         0                     0  \n",
       "\n",
       "[5 rows x 24 columns]"
      ]
     },
     "execution_count": 5,
     "metadata": {},
     "output_type": "execute_result"
    }
   ],
   "source": [
    "#Delete total_acc column (has no significant effect)\n",
    "df.drop(['total_acc'],axis=1,inplace=True)\n",
    "df.head(5)"
   ]
  },
  {
   "cell_type": "code",
   "execution_count": 6,
   "metadata": {},
   "outputs": [
    {
     "name": "stdout",
     "output_type": "stream",
     "text": [
      "<class 'pandas.core.frame.DataFrame'>\n",
      "Int64Index: 215982 entries, 0 to 232430\n",
      "Data columns (total 24 columns):\n",
      " #   Column                Non-Null Count   Dtype  \n",
      "---  ------                --------------   -----  \n",
      " 0   id                    215982 non-null  int64  \n",
      " 1   loan_amnt             215982 non-null  int64  \n",
      " 2   term                  215982 non-null  object \n",
      " 3   int_rate              215982 non-null  float64\n",
      " 4   installment           215982 non-null  float64\n",
      " 5   sub_grade             215982 non-null  object \n",
      " 6   emp_length            215982 non-null  object \n",
      " 7   home_ownership        215982 non-null  object \n",
      " 8   annual_inc            215982 non-null  float64\n",
      " 9   verification_status   215982 non-null  object \n",
      " 10  issue_d               215982 non-null  object \n",
      " 11  loan_status           215982 non-null  object \n",
      " 12  purpose               215982 non-null  object \n",
      " 13  dti                   215982 non-null  float64\n",
      " 14  fico_range_low        215982 non-null  int64  \n",
      " 15  fico_range_high       215982 non-null  int64  \n",
      " 16  open_acc              215982 non-null  int64  \n",
      " 17  pub_rec               215982 non-null  int64  \n",
      " 18  revol_bal             215982 non-null  int64  \n",
      " 19  revol_util            215982 non-null  float64\n",
      " 20  initial_list_status   215982 non-null  object \n",
      " 21  application_type      215982 non-null  object \n",
      " 22  mort_acc              215982 non-null  int64  \n",
      " 23  pub_rec_bankruptcies  215982 non-null  int64  \n",
      "dtypes: float64(5), int64(9), object(10)\n",
      "memory usage: 41.2+ MB\n"
     ]
    }
   ],
   "source": [
    "df.info()"
   ]
  },
  {
   "cell_type": "code",
   "execution_count": 7,
   "metadata": {},
   "outputs": [
    {
     "data": {
      "text/html": [
       "<div>\n",
       "<style scoped>\n",
       "    .dataframe tbody tr th:only-of-type {\n",
       "        vertical-align: middle;\n",
       "    }\n",
       "\n",
       "    .dataframe tbody tr th {\n",
       "        vertical-align: top;\n",
       "    }\n",
       "\n",
       "    .dataframe thead th {\n",
       "        text-align: right;\n",
       "    }\n",
       "</style>\n",
       "<table border=\"1\" class=\"dataframe\">\n",
       "  <thead>\n",
       "    <tr style=\"text-align: right;\">\n",
       "      <th></th>\n",
       "      <th>loan_amnt</th>\n",
       "      <th>term</th>\n",
       "      <th>int_rate</th>\n",
       "      <th>installment</th>\n",
       "      <th>sub_grade</th>\n",
       "      <th>emp_length</th>\n",
       "      <th>home_ownership</th>\n",
       "      <th>annual_inc</th>\n",
       "      <th>verification_status</th>\n",
       "      <th>loan_status</th>\n",
       "      <th>...</th>\n",
       "      <th>fico_range_low</th>\n",
       "      <th>fico_range_high</th>\n",
       "      <th>open_acc</th>\n",
       "      <th>pub_rec</th>\n",
       "      <th>revol_bal</th>\n",
       "      <th>revol_util</th>\n",
       "      <th>initial_list_status</th>\n",
       "      <th>application_type</th>\n",
       "      <th>mort_acc</th>\n",
       "      <th>pub_rec_bankruptcies</th>\n",
       "    </tr>\n",
       "  </thead>\n",
       "  <tbody>\n",
       "    <tr>\n",
       "      <th>0</th>\n",
       "      <td>28875</td>\n",
       "      <td>60 months</td>\n",
       "      <td>17.99</td>\n",
       "      <td>733.08</td>\n",
       "      <td>D2</td>\n",
       "      <td>6 years</td>\n",
       "      <td>RENT</td>\n",
       "      <td>99216.0</td>\n",
       "      <td>Verified</td>\n",
       "      <td>Charged Off</td>\n",
       "      <td>...</td>\n",
       "      <td>725</td>\n",
       "      <td>729</td>\n",
       "      <td>8</td>\n",
       "      <td>0</td>\n",
       "      <td>5541</td>\n",
       "      <td>29.0</td>\n",
       "      <td>w</td>\n",
       "      <td>Individual</td>\n",
       "      <td>0</td>\n",
       "      <td>0</td>\n",
       "    </tr>\n",
       "    <tr>\n",
       "      <th>1</th>\n",
       "      <td>15000</td>\n",
       "      <td>36 months</td>\n",
       "      <td>13.99</td>\n",
       "      <td>512.60</td>\n",
       "      <td>C3</td>\n",
       "      <td>5 years</td>\n",
       "      <td>MORTGAGE</td>\n",
       "      <td>60000.0</td>\n",
       "      <td>Not Verified</td>\n",
       "      <td>Fully Paid</td>\n",
       "      <td>...</td>\n",
       "      <td>675</td>\n",
       "      <td>679</td>\n",
       "      <td>22</td>\n",
       "      <td>1</td>\n",
       "      <td>18976</td>\n",
       "      <td>48.0</td>\n",
       "      <td>w</td>\n",
       "      <td>Individual</td>\n",
       "      <td>1</td>\n",
       "      <td>1</td>\n",
       "    </tr>\n",
       "    <tr>\n",
       "      <th>2</th>\n",
       "      <td>10000</td>\n",
       "      <td>36 months</td>\n",
       "      <td>14.49</td>\n",
       "      <td>344.17</td>\n",
       "      <td>C4</td>\n",
       "      <td>10+ years</td>\n",
       "      <td>OWN</td>\n",
       "      <td>122000.0</td>\n",
       "      <td>Verified</td>\n",
       "      <td>Fully Paid</td>\n",
       "      <td>...</td>\n",
       "      <td>660</td>\n",
       "      <td>664</td>\n",
       "      <td>11</td>\n",
       "      <td>0</td>\n",
       "      <td>17218</td>\n",
       "      <td>100.7</td>\n",
       "      <td>w</td>\n",
       "      <td>Individual</td>\n",
       "      <td>1</td>\n",
       "      <td>0</td>\n",
       "    </tr>\n",
       "    <tr>\n",
       "      <th>3</th>\n",
       "      <td>8525</td>\n",
       "      <td>36 months</td>\n",
       "      <td>28.88</td>\n",
       "      <td>356.69</td>\n",
       "      <td>G2</td>\n",
       "      <td>5 years</td>\n",
       "      <td>RENT</td>\n",
       "      <td>25000.0</td>\n",
       "      <td>Verified</td>\n",
       "      <td>Charged Off</td>\n",
       "      <td>...</td>\n",
       "      <td>675</td>\n",
       "      <td>679</td>\n",
       "      <td>7</td>\n",
       "      <td>0</td>\n",
       "      <td>3008</td>\n",
       "      <td>36.2</td>\n",
       "      <td>w</td>\n",
       "      <td>Individual</td>\n",
       "      <td>0</td>\n",
       "      <td>0</td>\n",
       "    </tr>\n",
       "    <tr>\n",
       "      <th>4</th>\n",
       "      <td>7350</td>\n",
       "      <td>36 months</td>\n",
       "      <td>21.49</td>\n",
       "      <td>278.77</td>\n",
       "      <td>D5</td>\n",
       "      <td>6 years</td>\n",
       "      <td>RENT</td>\n",
       "      <td>23000.0</td>\n",
       "      <td>Verified</td>\n",
       "      <td>Fully Paid</td>\n",
       "      <td>...</td>\n",
       "      <td>670</td>\n",
       "      <td>674</td>\n",
       "      <td>5</td>\n",
       "      <td>1</td>\n",
       "      <td>5529</td>\n",
       "      <td>43.9</td>\n",
       "      <td>w</td>\n",
       "      <td>Individual</td>\n",
       "      <td>0</td>\n",
       "      <td>0</td>\n",
       "    </tr>\n",
       "  </tbody>\n",
       "</table>\n",
       "<p>5 rows × 22 columns</p>\n",
       "</div>"
      ],
      "text/plain": [
       "   loan_amnt        term  int_rate  installment sub_grade emp_length  \\\n",
       "0      28875   60 months     17.99       733.08        D2    6 years   \n",
       "1      15000   36 months     13.99       512.60        C3    5 years   \n",
       "2      10000   36 months     14.49       344.17        C4  10+ years   \n",
       "3       8525   36 months     28.88       356.69        G2    5 years   \n",
       "4       7350   36 months     21.49       278.77        D5    6 years   \n",
       "\n",
       "  home_ownership  annual_inc verification_status  loan_status  ...  \\\n",
       "0           RENT     99216.0            Verified  Charged Off  ...   \n",
       "1       MORTGAGE     60000.0        Not Verified   Fully Paid  ...   \n",
       "2            OWN    122000.0            Verified   Fully Paid  ...   \n",
       "3           RENT     25000.0            Verified  Charged Off  ...   \n",
       "4           RENT     23000.0            Verified   Fully Paid  ...   \n",
       "\n",
       "  fico_range_low  fico_range_high  open_acc  pub_rec  revol_bal  revol_util  \\\n",
       "0            725              729         8        0       5541        29.0   \n",
       "1            675              679        22        1      18976        48.0   \n",
       "2            660              664        11        0      17218       100.7   \n",
       "3            675              679         7        0       3008        36.2   \n",
       "4            670              674         5        1       5529        43.9   \n",
       "\n",
       "   initial_list_status  application_type mort_acc pub_rec_bankruptcies  \n",
       "0                    w        Individual        0                    0  \n",
       "1                    w        Individual        1                    1  \n",
       "2                    w        Individual        1                    0  \n",
       "3                    w        Individual        0                    0  \n",
       "4                    w        Individual        0                    0  \n",
       "\n",
       "[5 rows x 22 columns]"
      ]
     },
     "execution_count": 7,
     "metadata": {},
     "output_type": "execute_result"
    }
   ],
   "source": [
    "#DELETE ISSUEDATE AND ID COLUMN\n",
    "df.drop(['issue_d', 'id'],axis=1,inplace=True)\n",
    "df.head(5) "
   ]
  },
  {
   "cell_type": "code",
   "execution_count": 8,
   "metadata": {},
   "outputs": [
    {
     "data": {
      "text/plain": [
       "Fully Paid            161034\n",
       "Charged Off            46068\n",
       "Late (31-120 days)      8866\n",
       "Default                   14\n",
       "Name: loan_status, dtype: int64"
      ]
     },
     "execution_count": 8,
     "metadata": {},
     "output_type": "execute_result"
    }
   ],
   "source": [
    "df['loan_status'].value_counts()"
   ]
  },
  {
   "cell_type": "code",
   "execution_count": 9,
   "metadata": {},
   "outputs": [
    {
     "data": {
      "text/html": [
       "<div>\n",
       "<style scoped>\n",
       "    .dataframe tbody tr th:only-of-type {\n",
       "        vertical-align: middle;\n",
       "    }\n",
       "\n",
       "    .dataframe tbody tr th {\n",
       "        vertical-align: top;\n",
       "    }\n",
       "\n",
       "    .dataframe thead th {\n",
       "        text-align: right;\n",
       "    }\n",
       "</style>\n",
       "<table border=\"1\" class=\"dataframe\">\n",
       "  <thead>\n",
       "    <tr style=\"text-align: right;\">\n",
       "      <th></th>\n",
       "      <th>loan_amnt</th>\n",
       "      <th>term</th>\n",
       "      <th>int_rate</th>\n",
       "      <th>installment</th>\n",
       "      <th>sub_grade</th>\n",
       "      <th>emp_length</th>\n",
       "      <th>home_ownership</th>\n",
       "      <th>annual_inc</th>\n",
       "      <th>verification_status</th>\n",
       "      <th>loan_status</th>\n",
       "      <th>...</th>\n",
       "      <th>fico_range_low</th>\n",
       "      <th>fico_range_high</th>\n",
       "      <th>open_acc</th>\n",
       "      <th>pub_rec</th>\n",
       "      <th>revol_bal</th>\n",
       "      <th>revol_util</th>\n",
       "      <th>initial_list_status</th>\n",
       "      <th>application_type</th>\n",
       "      <th>mort_acc</th>\n",
       "      <th>pub_rec_bankruptcies</th>\n",
       "    </tr>\n",
       "  </thead>\n",
       "  <tbody>\n",
       "    <tr>\n",
       "      <th>0</th>\n",
       "      <td>28875</td>\n",
       "      <td>60 months</td>\n",
       "      <td>17.99</td>\n",
       "      <td>733.08</td>\n",
       "      <td>D2</td>\n",
       "      <td>6</td>\n",
       "      <td>RENT</td>\n",
       "      <td>99216.0</td>\n",
       "      <td>Verified</td>\n",
       "      <td>1</td>\n",
       "      <td>...</td>\n",
       "      <td>725</td>\n",
       "      <td>729</td>\n",
       "      <td>8</td>\n",
       "      <td>0</td>\n",
       "      <td>5541</td>\n",
       "      <td>29.0</td>\n",
       "      <td>w</td>\n",
       "      <td>Individual</td>\n",
       "      <td>0</td>\n",
       "      <td>0</td>\n",
       "    </tr>\n",
       "    <tr>\n",
       "      <th>1</th>\n",
       "      <td>15000</td>\n",
       "      <td>36 months</td>\n",
       "      <td>13.99</td>\n",
       "      <td>512.60</td>\n",
       "      <td>C3</td>\n",
       "      <td>5</td>\n",
       "      <td>MORTGAGE</td>\n",
       "      <td>60000.0</td>\n",
       "      <td>Not Verified</td>\n",
       "      <td>0</td>\n",
       "      <td>...</td>\n",
       "      <td>675</td>\n",
       "      <td>679</td>\n",
       "      <td>22</td>\n",
       "      <td>1</td>\n",
       "      <td>18976</td>\n",
       "      <td>48.0</td>\n",
       "      <td>w</td>\n",
       "      <td>Individual</td>\n",
       "      <td>1</td>\n",
       "      <td>1</td>\n",
       "    </tr>\n",
       "    <tr>\n",
       "      <th>2</th>\n",
       "      <td>10000</td>\n",
       "      <td>36 months</td>\n",
       "      <td>14.49</td>\n",
       "      <td>344.17</td>\n",
       "      <td>C4</td>\n",
       "      <td>10</td>\n",
       "      <td>OWN</td>\n",
       "      <td>122000.0</td>\n",
       "      <td>Verified</td>\n",
       "      <td>0</td>\n",
       "      <td>...</td>\n",
       "      <td>660</td>\n",
       "      <td>664</td>\n",
       "      <td>11</td>\n",
       "      <td>0</td>\n",
       "      <td>17218</td>\n",
       "      <td>100.7</td>\n",
       "      <td>w</td>\n",
       "      <td>Individual</td>\n",
       "      <td>1</td>\n",
       "      <td>0</td>\n",
       "    </tr>\n",
       "    <tr>\n",
       "      <th>3</th>\n",
       "      <td>8525</td>\n",
       "      <td>36 months</td>\n",
       "      <td>28.88</td>\n",
       "      <td>356.69</td>\n",
       "      <td>G2</td>\n",
       "      <td>5</td>\n",
       "      <td>RENT</td>\n",
       "      <td>25000.0</td>\n",
       "      <td>Verified</td>\n",
       "      <td>1</td>\n",
       "      <td>...</td>\n",
       "      <td>675</td>\n",
       "      <td>679</td>\n",
       "      <td>7</td>\n",
       "      <td>0</td>\n",
       "      <td>3008</td>\n",
       "      <td>36.2</td>\n",
       "      <td>w</td>\n",
       "      <td>Individual</td>\n",
       "      <td>0</td>\n",
       "      <td>0</td>\n",
       "    </tr>\n",
       "    <tr>\n",
       "      <th>4</th>\n",
       "      <td>7350</td>\n",
       "      <td>36 months</td>\n",
       "      <td>21.49</td>\n",
       "      <td>278.77</td>\n",
       "      <td>D5</td>\n",
       "      <td>6</td>\n",
       "      <td>RENT</td>\n",
       "      <td>23000.0</td>\n",
       "      <td>Verified</td>\n",
       "      <td>0</td>\n",
       "      <td>...</td>\n",
       "      <td>670</td>\n",
       "      <td>674</td>\n",
       "      <td>5</td>\n",
       "      <td>1</td>\n",
       "      <td>5529</td>\n",
       "      <td>43.9</td>\n",
       "      <td>w</td>\n",
       "      <td>Individual</td>\n",
       "      <td>0</td>\n",
       "      <td>0</td>\n",
       "    </tr>\n",
       "  </tbody>\n",
       "</table>\n",
       "<p>5 rows × 22 columns</p>\n",
       "</div>"
      ],
      "text/plain": [
       "   loan_amnt        term  int_rate  installment sub_grade  emp_length  \\\n",
       "0      28875   60 months     17.99       733.08        D2           6   \n",
       "1      15000   36 months     13.99       512.60        C3           5   \n",
       "2      10000   36 months     14.49       344.17        C4          10   \n",
       "3       8525   36 months     28.88       356.69        G2           5   \n",
       "4       7350   36 months     21.49       278.77        D5           6   \n",
       "\n",
       "  home_ownership  annual_inc verification_status  loan_status  ...  \\\n",
       "0           RENT     99216.0            Verified            1  ...   \n",
       "1       MORTGAGE     60000.0        Not Verified            0  ...   \n",
       "2            OWN    122000.0            Verified            0  ...   \n",
       "3           RENT     25000.0            Verified            1  ...   \n",
       "4           RENT     23000.0            Verified            0  ...   \n",
       "\n",
       "  fico_range_low  fico_range_high  open_acc  pub_rec  revol_bal  revol_util  \\\n",
       "0            725              729         8        0       5541        29.0   \n",
       "1            675              679        22        1      18976        48.0   \n",
       "2            660              664        11        0      17218       100.7   \n",
       "3            675              679         7        0       3008        36.2   \n",
       "4            670              674         5        1       5529        43.9   \n",
       "\n",
       "   initial_list_status  application_type mort_acc pub_rec_bankruptcies  \n",
       "0                    w        Individual        0                    0  \n",
       "1                    w        Individual        1                    1  \n",
       "2                    w        Individual        1                    0  \n",
       "3                    w        Individual        0                    0  \n",
       "4                    w        Individual        0                    0  \n",
       "\n",
       "[5 rows x 22 columns]"
      ]
     },
     "execution_count": 9,
     "metadata": {},
     "output_type": "execute_result"
    }
   ],
   "source": [
    "#Replace some values into numbers    \n",
    "df['emp_length'].replace({'< 1 year': 0, '1 year': 1, '2 years': 2, '3 years': 3, '4 years': 4, '5 years': 5, '6 years': 6, '7 years': 7, '8 years': 8, '9 years': 9, '10+ years': 10}, inplace=True)\n",
    "df['loan_status'].replace({'Charged Off': 1, 'Late (31-120 days)': 1, 'Default' : 1, 'Fully Paid': 0}, inplace=True)\n",
    "df.head(5)"
   ]
  },
  {
   "cell_type": "code",
   "execution_count": 10,
   "metadata": {},
   "outputs": [
    {
     "name": "stdout",
     "output_type": "stream",
     "text": [
      "Number of numerical features:  14 \n",
      "Number of categorical features:  7\n"
     ]
    }
   ],
   "source": [
    "numerical_features = ['fico_range_low','pub_rec','pub_rec_bankruptcies', 'revol_util', 'annual_inc', 'int_rate', 'dti',  'mort_acc', 'loan_amnt', \n",
    "       'installment','fico_range_high', 'revol_bal', 'open_acc', 'emp_length']\n",
    "categorical_features = [x for x in df.columns if (x not in numerical_features and x != 'loan_status')]\n",
    "\n",
    "print('Number of numerical features: ', len(numerical_features),\n",
    "'\\nNumber of categorical features: ', len(categorical_features))"
   ]
  },
  {
   "cell_type": "code",
   "execution_count": 11,
   "metadata": {},
   "outputs": [
    {
     "data": {
      "text/html": [
       "<div>\n",
       "<style scoped>\n",
       "    .dataframe tbody tr th:only-of-type {\n",
       "        vertical-align: middle;\n",
       "    }\n",
       "\n",
       "    .dataframe tbody tr th {\n",
       "        vertical-align: top;\n",
       "    }\n",
       "\n",
       "    .dataframe thead th {\n",
       "        text-align: right;\n",
       "    }\n",
       "</style>\n",
       "<table border=\"1\" class=\"dataframe\">\n",
       "  <thead>\n",
       "    <tr style=\"text-align: right;\">\n",
       "      <th></th>\n",
       "      <th>term</th>\n",
       "      <th>sub_grade</th>\n",
       "      <th>home_ownership</th>\n",
       "      <th>verification_status</th>\n",
       "      <th>purpose</th>\n",
       "      <th>initial_list_status</th>\n",
       "      <th>application_type</th>\n",
       "    </tr>\n",
       "  </thead>\n",
       "  <tbody>\n",
       "    <tr>\n",
       "      <th>count</th>\n",
       "      <td>215982</td>\n",
       "      <td>215982</td>\n",
       "      <td>215982</td>\n",
       "      <td>215982</td>\n",
       "      <td>215982</td>\n",
       "      <td>215982</td>\n",
       "      <td>215982</td>\n",
       "    </tr>\n",
       "    <tr>\n",
       "      <th>unique</th>\n",
       "      <td>2</td>\n",
       "      <td>35</td>\n",
       "      <td>5</td>\n",
       "      <td>3</td>\n",
       "      <td>12</td>\n",
       "      <td>2</td>\n",
       "      <td>2</td>\n",
       "    </tr>\n",
       "    <tr>\n",
       "      <th>top</th>\n",
       "      <td>36 months</td>\n",
       "      <td>B5</td>\n",
       "      <td>MORTGAGE</td>\n",
       "      <td>Source Verified</td>\n",
       "      <td>debt_consolidation</td>\n",
       "      <td>w</td>\n",
       "      <td>Individual</td>\n",
       "    </tr>\n",
       "    <tr>\n",
       "      <th>freq</th>\n",
       "      <td>163775</td>\n",
       "      <td>16464</td>\n",
       "      <td>106502</td>\n",
       "      <td>92222</td>\n",
       "      <td>123117</td>\n",
       "      <td>159209</td>\n",
       "      <td>205343</td>\n",
       "    </tr>\n",
       "  </tbody>\n",
       "</table>\n",
       "</div>"
      ],
      "text/plain": [
       "              term sub_grade home_ownership verification_status  \\\n",
       "count       215982    215982         215982              215982   \n",
       "unique           2        35              5                   3   \n",
       "top      36 months        B5       MORTGAGE     Source Verified   \n",
       "freq        163775     16464         106502               92222   \n",
       "\n",
       "                   purpose initial_list_status application_type  \n",
       "count               215982              215982           215982  \n",
       "unique                  12                   2                2  \n",
       "top     debt_consolidation                   w       Individual  \n",
       "freq                123117              159209           205343  "
      ]
     },
     "execution_count": 11,
     "metadata": {},
     "output_type": "execute_result"
    }
   ],
   "source": [
    "#DESCRIPTIVE STATISTICS FOR CATEGORICAL VALUES\n",
    "for col in categorical_features:\n",
    "    df[col] = df[col].astype('object')\n",
    "df[categorical_features].describe()"
   ]
  },
  {
   "cell_type": "code",
   "execution_count": 12,
   "metadata": {},
   "outputs": [
    {
     "data": {
      "text/html": [
       "<div>\n",
       "<style scoped>\n",
       "    .dataframe tbody tr th:only-of-type {\n",
       "        vertical-align: middle;\n",
       "    }\n",
       "\n",
       "    .dataframe tbody tr th {\n",
       "        vertical-align: top;\n",
       "    }\n",
       "\n",
       "    .dataframe thead th {\n",
       "        text-align: right;\n",
       "    }\n",
       "</style>\n",
       "<table border=\"1\" class=\"dataframe\">\n",
       "  <thead>\n",
       "    <tr style=\"text-align: right;\">\n",
       "      <th></th>\n",
       "      <th>fico_range_low</th>\n",
       "      <th>pub_rec</th>\n",
       "      <th>pub_rec_bankruptcies</th>\n",
       "      <th>revol_util</th>\n",
       "      <th>annual_inc</th>\n",
       "      <th>int_rate</th>\n",
       "      <th>dti</th>\n",
       "      <th>mort_acc</th>\n",
       "      <th>loan_amnt</th>\n",
       "      <th>installment</th>\n",
       "      <th>fico_range_high</th>\n",
       "      <th>revol_bal</th>\n",
       "      <th>open_acc</th>\n",
       "      <th>emp_length</th>\n",
       "    </tr>\n",
       "  </thead>\n",
       "  <tbody>\n",
       "    <tr>\n",
       "      <th>count</th>\n",
       "      <td>215982.00</td>\n",
       "      <td>215982.00</td>\n",
       "      <td>215982.00</td>\n",
       "      <td>215982.00</td>\n",
       "      <td>215982.00</td>\n",
       "      <td>215982.00</td>\n",
       "      <td>215982.00</td>\n",
       "      <td>215982.00</td>\n",
       "      <td>215982.0</td>\n",
       "      <td>215982.00</td>\n",
       "      <td>215982.00</td>\n",
       "      <td>215982.00</td>\n",
       "      <td>215982.00</td>\n",
       "      <td>215982.00</td>\n",
       "    </tr>\n",
       "    <tr>\n",
       "      <th>mean</th>\n",
       "      <td>697.73</td>\n",
       "      <td>0.25</td>\n",
       "      <td>0.16</td>\n",
       "      <td>46.82</td>\n",
       "      <td>81484.05</td>\n",
       "      <td>13.93</td>\n",
       "      <td>18.22</td>\n",
       "      <td>1.52</td>\n",
       "      <td>14591.3</td>\n",
       "      <td>449.40</td>\n",
       "      <td>701.73</td>\n",
       "      <td>15402.43</td>\n",
       "      <td>11.75</td>\n",
       "      <td>5.93</td>\n",
       "    </tr>\n",
       "    <tr>\n",
       "      <th>std</th>\n",
       "      <td>33.24</td>\n",
       "      <td>0.64</td>\n",
       "      <td>0.41</td>\n",
       "      <td>24.85</td>\n",
       "      <td>82577.43</td>\n",
       "      <td>5.30</td>\n",
       "      <td>11.71</td>\n",
       "      <td>1.82</td>\n",
       "      <td>9404.0</td>\n",
       "      <td>288.32</td>\n",
       "      <td>33.24</td>\n",
       "      <td>21823.33</td>\n",
       "      <td>5.78</td>\n",
       "      <td>3.73</td>\n",
       "    </tr>\n",
       "    <tr>\n",
       "      <th>min</th>\n",
       "      <td>660.00</td>\n",
       "      <td>0.00</td>\n",
       "      <td>0.00</td>\n",
       "      <td>0.00</td>\n",
       "      <td>100.00</td>\n",
       "      <td>5.31</td>\n",
       "      <td>-1.00</td>\n",
       "      <td>0.00</td>\n",
       "      <td>1000.0</td>\n",
       "      <td>30.12</td>\n",
       "      <td>664.00</td>\n",
       "      <td>0.00</td>\n",
       "      <td>1.00</td>\n",
       "      <td>0.00</td>\n",
       "    </tr>\n",
       "    <tr>\n",
       "      <th>25%</th>\n",
       "      <td>670.00</td>\n",
       "      <td>0.00</td>\n",
       "      <td>0.00</td>\n",
       "      <td>27.60</td>\n",
       "      <td>50000.00</td>\n",
       "      <td>10.49</td>\n",
       "      <td>11.64</td>\n",
       "      <td>0.00</td>\n",
       "      <td>7200.0</td>\n",
       "      <td>237.85</td>\n",
       "      <td>674.00</td>\n",
       "      <td>5374.00</td>\n",
       "      <td>8.00</td>\n",
       "      <td>2.00</td>\n",
       "    </tr>\n",
       "    <tr>\n",
       "      <th>50%</th>\n",
       "      <td>690.00</td>\n",
       "      <td>0.00</td>\n",
       "      <td>0.00</td>\n",
       "      <td>45.90</td>\n",
       "      <td>69790.00</td>\n",
       "      <td>12.79</td>\n",
       "      <td>17.52</td>\n",
       "      <td>1.00</td>\n",
       "      <td>12000.0</td>\n",
       "      <td>371.05</td>\n",
       "      <td>694.00</td>\n",
       "      <td>10267.50</td>\n",
       "      <td>11.00</td>\n",
       "      <td>6.00</td>\n",
       "    </tr>\n",
       "    <tr>\n",
       "      <th>75%</th>\n",
       "      <td>715.00</td>\n",
       "      <td>0.00</td>\n",
       "      <td>0.00</td>\n",
       "      <td>65.30</td>\n",
       "      <td>96000.00</td>\n",
       "      <td>16.99</td>\n",
       "      <td>24.05</td>\n",
       "      <td>2.00</td>\n",
       "      <td>20000.0</td>\n",
       "      <td>604.24</td>\n",
       "      <td>719.00</td>\n",
       "      <td>18367.00</td>\n",
       "      <td>15.00</td>\n",
       "      <td>10.00</td>\n",
       "    </tr>\n",
       "    <tr>\n",
       "      <th>max</th>\n",
       "      <td>845.00</td>\n",
       "      <td>61.00</td>\n",
       "      <td>8.00</td>\n",
       "      <td>162.00</td>\n",
       "      <td>9522972.00</td>\n",
       "      <td>30.99</td>\n",
       "      <td>999.00</td>\n",
       "      <td>29.00</td>\n",
       "      <td>40000.0</td>\n",
       "      <td>1715.42</td>\n",
       "      <td>850.00</td>\n",
       "      <td>1087664.00</td>\n",
       "      <td>80.00</td>\n",
       "      <td>10.00</td>\n",
       "    </tr>\n",
       "  </tbody>\n",
       "</table>\n",
       "</div>"
      ],
      "text/plain": [
       "       fico_range_low    pub_rec  pub_rec_bankruptcies  revol_util  \\\n",
       "count       215982.00  215982.00             215982.00   215982.00   \n",
       "mean           697.73       0.25                  0.16       46.82   \n",
       "std             33.24       0.64                  0.41       24.85   \n",
       "min            660.00       0.00                  0.00        0.00   \n",
       "25%            670.00       0.00                  0.00       27.60   \n",
       "50%            690.00       0.00                  0.00       45.90   \n",
       "75%            715.00       0.00                  0.00       65.30   \n",
       "max            845.00      61.00                  8.00      162.00   \n",
       "\n",
       "       annual_inc   int_rate        dti   mort_acc  loan_amnt  installment  \\\n",
       "count   215982.00  215982.00  215982.00  215982.00   215982.0    215982.00   \n",
       "mean     81484.05      13.93      18.22       1.52    14591.3       449.40   \n",
       "std      82577.43       5.30      11.71       1.82     9404.0       288.32   \n",
       "min        100.00       5.31      -1.00       0.00     1000.0        30.12   \n",
       "25%      50000.00      10.49      11.64       0.00     7200.0       237.85   \n",
       "50%      69790.00      12.79      17.52       1.00    12000.0       371.05   \n",
       "75%      96000.00      16.99      24.05       2.00    20000.0       604.24   \n",
       "max    9522972.00      30.99     999.00      29.00    40000.0      1715.42   \n",
       "\n",
       "       fico_range_high   revol_bal   open_acc  emp_length  \n",
       "count        215982.00   215982.00  215982.00   215982.00  \n",
       "mean            701.73    15402.43      11.75        5.93  \n",
       "std              33.24    21823.33       5.78        3.73  \n",
       "min             664.00        0.00       1.00        0.00  \n",
       "25%             674.00     5374.00       8.00        2.00  \n",
       "50%             694.00    10267.50      11.00        6.00  \n",
       "75%             719.00    18367.00      15.00       10.00  \n",
       "max             850.00  1087664.00      80.00       10.00  "
      ]
     },
     "execution_count": 12,
     "metadata": {},
     "output_type": "execute_result"
    }
   ],
   "source": [
    "#DESCRIPTIVE STATISTICS FOR NUMERICAL VALUES\n",
    "df[numerical_features].describe().round(decimals=2)"
   ]
  },
  {
   "cell_type": "code",
   "execution_count": 13,
   "metadata": {},
   "outputs": [],
   "source": [
    "import pandas as pd\n",
    "from ipywidgets import interact, interactive\n",
    "import plotly.graph_objs as go\n",
    "from plotly.tools import make_subplots"
   ]
  },
  {
   "cell_type": "code",
   "execution_count": 14,
   "metadata": {},
   "outputs": [],
   "source": [
    "###Calculate the count and percentage of each purpose type for each loan_status.\n",
    "result = df.groupby(['purpose', 'loan_status']).size().unstack(fill_value=0)\n",
    "result['Fully-paid'] = result[0] / (result[0] + result[1]) * 100\n",
    "result['Charged-off'] = result[1] / (result[0] + result[1]) * 100\n",
    "\n",
    "result = df.groupby('purpose')['loan_status'].value_counts(normalize=True).unstack(fill_value=0)\n",
    "result['Fully-paid'] = (result[0] * 100).round(1)  \n",
    "result['Charged-off'] = (result[1] * 100).round(1)  "
   ]
  },
  {
   "cell_type": "code",
   "execution_count": null,
   "metadata": {},
   "outputs": [],
   "source": [
    "import plotly.graph_objects as go\n",
    "top_3_high_charged_off = result.nlargest(3, 'Charged-off')\n",
    "top_3_low_charged_off = result.nsmallest(3, 'Charged-off')\n",
    "fig = go.Figure()\n",
    "\n",
    "fig.add_trace(go.Bar(\n",
    "    y=top_3_high_charged_off.index,\n",
    "    x=top_3_high_charged_off['Fully-paid'],\n",
    "    name='Fully-paid',\n",
    "    orientation='h',\n",
    "    marker=dict(color='rgba(148, 204, 255, 0.3)'),\n",
    "    text=top_3_high_charged_off['Fully-paid'],\n",
    "    textposition='inside',\n",
    "))\n",
    "\n",
    "fig.add_trace(go.Bar(\n",
    "    y=top_3_high_charged_off.index,\n",
    "    x=top_3_high_charged_off['Charged-off'],\n",
    "    name='Charged-off',\n",
    "    orientation='h',\n",
    "    marker=dict(color='rgba(148, 204, 255, 0.71)'),\n",
    "    text=top_3_high_charged_off['Charged-off'],\n",
    "    textposition='inside',\n",
    "    showlegend=False,  \n",
    "))\n",
    "\n",
    "fig.add_trace(go.Bar(\n",
    "    y=top_3_low_charged_off.index,\n",
    "    x=top_3_low_charged_off['Fully-paid'],\n",
    "    name='Fully-paid',\n",
    "    orientation='h',\n",
    "    marker=dict(color='rgba(148, 204, 255, 0.3)'),\n",
    "    text=top_3_low_charged_off['Fully-paid'],\n",
    "    textposition='inside',\n",
    "    showlegend=False,  \n",
    "))\n",
    "\n",
    "fig.add_trace(go.Bar(\n",
    "    y=top_3_low_charged_off.index,\n",
    "    x=top_3_low_charged_off['Charged-off'],\n",
    "    name='Charged-off',\n",
    "    orientation='h',\n",
    "    marker=dict(color='rgba(148, 204, 255, 0.71)'),\n",
    "    text=top_3_low_charged_off['Charged-off'],\n",
    "    textposition='inside',\n",
    "    showlegend=True, \n",
    "))\n",
    "\n",
    "fig.update_layout(\n",
    "    barmode='stack',\n",
    "    title='Percentage of Fully-paid and Charged-off by Loan Purpose',\n",
    "    xaxis_title='Percentage (%)',\n",
    "    yaxis_title='Loan Purpose',\n",
    "    legend_title='Loan Status',\n",
    "    yaxis=dict(autorange=\"reversed\")\n",
    ")\n",
    "\n",
    "fig.show()\n"
   ]
  },
  {
   "cell_type": "code",
   "execution_count": null,
   "metadata": {},
   "outputs": [],
   "source": [
    "# Import libraries\n",
    "import plotly.graph_objects as go\n",
    "\n",
    "P = df[df['loan_status'] == 0]['fico_range_high'].tolist()\n",
    "N = df[df['loan_status'] == 1]['fico_range_high'].tolist()\n",
    "\n",
    "# Create the box plots\n",
    "fig = go.Figure()\n",
    "\n",
    "fig.add_trace(go.Box(\n",
    "    y=P,\n",
    "    name=\"Fully-Paid\",\n",
    "    jitter=0.3,\n",
    "    pointpos=-1.8,\n",
    "    boxpoints='all',\n",
    "    marker=dict(color='rgb(150, 198, 109)'),\n",
    "    line=dict(color='rgb(111, 200, 37)'),\n",
    "))\n",
    "\n",
    "fig.add_trace(go.Box(\n",
    "    y=N,\n",
    "    name=\"Charged-Off\",\n",
    "    jitter=0.3,\n",
    "    pointpos=-1.8,\n",
    "    boxpoints='all',\n",
    "    marker=dict(color='rgb(124, 236, 212)'),\n",
    "    line=dict(color='rgb(38, 214, 177)'),\n",
    "))\n",
    "\n",
    "# Customize layout\n",
    "fig.update_layout(\n",
    "    title=\"Box Plot of Credit Scores for Fully Paid and Charged Off Loans \",\n",
    "    xaxis_title=\"Loan_Status\",\n",
    "    yaxis_title=\"The upper boundary range the borrower FICO\",\n",
    "    height=700,\n",
    ")\n",
    "\n",
    "# Display the plot\n",
    "fig.show()\n"
   ]
  },
  {
   "cell_type": "code",
   "execution_count": null,
   "metadata": {},
   "outputs": [],
   "source": [
    "import plotly.graph_objects as go\n",
    "import pandas as pd\n",
    "\n",
    "default_totals = df.groupby(\"loan_status\").size().to_dict()\n",
    "home_ownership_counts = df.groupby([\"loan_status\", \"home_ownership\"]).size().unstack()\n",
    "\n",
    "colors = [\"#94ccff\", \"#b5dcfe\", \"#e0f8f8\", \"#1B5E20\", \"#2E7D32\"]  \n",
    "status_map = {\n",
    "    \"MORTGAGE\": {\"name\": \"Mortgage\", \"color\": colors[0]},\n",
    "    \"OWN\": {\"name\": \"Own\", \"color\": colors[1]},\n",
    "    \"RENT\": {\"name\": \"Rent\", \"color\": colors[2]},\n",
    "    \"NONE\": {\"name\": \"None\", \"color\": colors[3]},\n",
    "    \"ANY\": {\"name\": \"Any\", \"color\": colors[4]}\n",
    "}\n",
    "\n",
    "for status in home_ownership_counts.columns:\n",
    "    for loan_status in default_totals:\n",
    "        home_ownership_counts[status][loan_status] = round(\n",
    "            (home_ownership_counts[status][loan_status] / default_totals[loan_status]) * 100, 2\n",
    "        )\n",
    "\n",
    "fig = go.Figure(\n",
    "    data=[\n",
    "        go.Bar(\n",
    "            name=status_map[status][\"name\"],\n",
    "            x=[0, 1],  \n",
    "            y=home_ownership_counts[status],\n",
    "            text=home_ownership_counts[status].astype(str) + \"%\",\n",
    "            textposition=\"auto\",\n",
    "            marker_color=status_map[status][\"color\"],\n",
    "        )\n",
    "        for status in home_ownership_counts.columns\n",
    "    ]\n",
    ")\n",
    "\n",
    "fig.update_layout(\n",
    "    barmode=\"stack\",\n",
    "    xaxis_title=\"Loan Repayment Status\",\n",
    "    xaxis_tickvals=[0, 1],\n",
    "    xaxis_ticktext=[\"Fully-Paid\", \"Charged-Off\"],\n",
    "    title=\"Housing Situation by Loan Repayment Status\",\n",
    "    title_x=0.5,\n",
    "    showlegend=True,\n",
    "    width=600,\n",
    "    height=500,\n",
    "    margin=dict(l=20, r=10, b=20, t=40),\n",
    ")\n",
    "\n",
    "fig.show()"
   ]
  },
  {
   "cell_type": "code",
   "execution_count": null,
   "metadata": {},
   "outputs": [],
   "source": [
    "\n",
    "import pandas as pd\n",
    "import plotly.graph_objs as go\n",
    "from plotly.subplots import make_subplots\n",
    "\n",
    "Q1 = df['loan_amnt'].quantile(0.25)\n",
    "Q3 = df['loan_amnt'].quantile(0.75)\n",
    "IQR = Q3 - Q1\n",
    "\n",
    "df_filtered = df[(df['loan_amnt'] >= Q1 - 1.5 * IQR) & (df['loan_amnt'] <= Q3 + 1.5 * IQR)]\n",
    "\n",
    "default_0_df = df_filtered[df_filtered['loan_status'] == 0]  \n",
    "default_1_df = df_filtered[df_filtered['loan_status'] == 1]  \n",
    "\n",
    "trace0 = go.Histogram(\n",
    "    x=default_0_df['loan_amnt'],\n",
    "    histnorm='percent',\n",
    "    name='Fully-Paid',\n",
    "    marker=dict(color='rgba(148, 204, 255, 0.71)'),\n",
    "    nbinsx=15  \n",
    ")\n",
    "\n",
    "trace1 = go.Histogram(\n",
    "    x=default_1_df['loan_amnt'],\n",
    "    histnorm='percent',\n",
    "    name='Charged-Off',\n",
    "    marker=dict(color='rgba(255, 182, 193, 0.6)'),\n",
    "    nbinsx=16  \n",
    ")\n",
    "\n",
    "fig = make_subplots(rows=1, cols=2, subplot_titles=(\"Fully-Paid\", \"Charged-Off\"))\n",
    "\n",
    "fig.add_trace(trace0, row=1, col=1)\n",
    "fig.add_trace(trace1, row=1, col=2)\n",
    "\n",
    "max_annual_inc = max(df_filtered['loan_amnt'].max(), default_0_df['loan_amnt'].max(), default_1_df['loan_amnt'].max())\n",
    "\n",
    "fig.update_layout(\n",
    "    title='Distribution of Loan Amount by Loan Repayment Status',\n",
    "    showlegend=True,\n",
    "    yaxis=dict(title='Percentage'),\n",
    ")\n",
    "\n",
    "fig.show()\n"
   ]
  },
  {
   "cell_type": "code",
   "execution_count": null,
   "metadata": {},
   "outputs": [],
   "source": [
    "import pandas as pd\n",
    "import plotly.graph_objs as go\n",
    "from plotly.subplots import make_subplots\n",
    "\n",
    "Q1 = df['annual_inc'].quantile(0.25)\n",
    "Q3 = df['annual_inc'].quantile(0.75)\n",
    "IQR = Q3 - Q1\n",
    "\n",
    "df_filtered = df[(df['annual_inc'] >= Q1 - 1.5 * IQR) & (df['annual_inc'] <= Q3 + 1.5 * IQR)]\n",
    "\n",
    "default_0_df = df_filtered[df_filtered['loan_status'] == 0]  \n",
    "default_1_df = df_filtered[df_filtered['loan_status'] == 1]  \n",
    "\n",
    "trace0 = go.Histogram(\n",
    "    x=default_0_df['annual_inc'],\n",
    "    histnorm='percent',\n",
    "    name='Fully-Paid',\n",
    "    marker=dict(color='rgba(148, 204, 255, 0.71)'),\n",
    "    nbinsx=15  \n",
    ")\n",
    "\n",
    "trace1 = go.Histogram(\n",
    "    x=default_1_df['annual_inc'],\n",
    "    histnorm='percent',\n",
    "    name='Charged-Off',\n",
    "    marker=dict(color='rgba(255, 182, 193, 0.6)'),\n",
    "    nbinsx=16  \n",
    ")\n",
    "\n",
    "fig = make_subplots(rows=1, cols=2, subplot_titles=(\"Fully-Paid\", \"Charged-Off\"))\n",
    "\n",
    "fig.add_trace(trace0, row=1, col=1)\n",
    "fig.add_trace(trace1, row=1, col=2)\n",
    "\n",
    "max_annual_inc = max(df_filtered['annual_inc'].max(), default_0_df['annual_inc'].max(), default_1_df['annual_inc'].max())\n",
    "\n",
    "fig.update_layout(\n",
    "    title='Distribution of Annual Income by Loan Repayment Status',\n",
    "    showlegend=True,\n",
    "    yaxis=dict(title='Percentage'),\n",
    ")\n",
    "\n",
    "fig.show()\n"
   ]
  },
  {
   "cell_type": "code",
   "execution_count": 14,
   "metadata": {},
   "outputs": [],
   "source": [
    "df['sub_grade'].replace({'A1': 1, 'A2': 2, 'A3': 3, 'A4': 4, 'A5': 5,\n",
    "    'B1': 6, 'B2': 7, 'B3': 8, 'B4': 9, 'B5': 10,\n",
    "    'C1': 11, 'C2': 12, 'C3': 13, 'C4': 14, 'C5': 15,\n",
    "    'D1': 16, 'D2': 17, 'D3': 18, 'D4': 19, 'D5': 20,\n",
    "    'E1': 21, 'E2': 22, 'E3': 23, 'E4': 24, 'E5': 25,\n",
    "    'F1': 26, 'F2': 27, 'F3': 28, 'F4': 29, 'F5': 30,\n",
    "    'G1': 31, 'G2': 32, 'G3': 33, 'G4': 34, 'G5': 35\n",
    "  }\n",
    ", inplace=True)\n",
    "df['term'].replace({' 36 months': 0, ' 60 months':1}, inplace=True)\n",
    "df['home_ownership'].replace( {\n",
    "    'MORTGAGE': 1,\n",
    "    'ANY': 2,\n",
    "    'OWN': 3,\n",
    "    'NONE': 4,\n",
    "    'RENT': 5\n",
    "  }, inplace=True)\n",
    "df['purpose'].replace({\n",
    "    'major_purchase': 1,\n",
    "    'other': 2,\n",
    "    'debt_consolidation': 3,\n",
    "    'credit_card': 4,\n",
    "    'home_improvement': 5,\n",
    "    'moving': 6,\n",
    "    'car': 7,\n",
    "    'vacation': 8,\n",
    "    'small_business': 9,\n",
    "    'medical': 10,\n",
    "    'house': 11,\n",
    "    'renewable_energy': 12\n",
    "  }, inplace=True)\n",
    "\n",
    "df['application_type'].replace({'Individual': 1, 'Joint App': 2,}, inplace=True)\n",
    "df['verification_status'].replace({'Not Verified': 1, 'Verified': 2, 'Source Verified': 3}, inplace=True)\n",
    "df['initial_list_status'].replace({'w': 1, 'f': 2}, inplace=True)"
   ]
  },
  {
   "cell_type": "code",
   "execution_count": 15,
   "metadata": {},
   "outputs": [],
   "source": [
    "df['sub_grade'] = df['sub_grade'].astype('int64')\n",
    "df['term'] = df['term'].astype('int64')\n",
    "df['home_ownership'] = df['home_ownership'].astype('int64')\n",
    "df['fico_range_low'] = df['fico_range_low'].astype('int64')\n",
    "df['pub_rec'] = df['pub_rec'].astype('int64')\n",
    "df['revol_util'] = df['revol_util'].astype('int64')\n",
    "df['annual_inc'] = df['annual_inc'].astype('int64')\n",
    "df['int_rate'] = df['int_rate'].astype('int64')\n",
    "df['dti'] = df['dti'].astype('int64')\n",
    "df['purpose'] = df['purpose'].astype('int64')\n",
    "df['mort_acc'] = df['mort_acc'].astype('int64')\n",
    "df['loan_amnt'] = df['loan_amnt'].astype('int64')\n",
    "df['application_type'] = df['application_type'].astype('int64')\n",
    "df['installment'] = df['installment'].astype('int64')\n",
    "df['verification_status'] = df['verification_status'].astype('int64')\n",
    "df['pub_rec_bankruptcies'] = df['pub_rec_bankruptcies'].astype('int64')\n",
    "df['initial_list_status'] = df['initial_list_status'].astype('int64')\n",
    "df['fico_range_high'] = df['fico_range_high'].astype('int64')\n",
    "df['revol_bal'] = df['revol_bal'].astype('int64')\n",
    "df['open_acc'] = df['open_acc'].astype('int64')\n",
    "df['emp_length'] = df['emp_length'].astype('int64')\n",
    "df['loan_status'] = df['loan_status'].astype('int64')"
   ]
  },
  {
   "cell_type": "code",
   "execution_count": 17,
   "metadata": {},
   "outputs": [
    {
     "data": {
      "image/png": "[encoded data removed]",
      "text/plain": [
       "<Figure size 1000x700 with 2 Axes>"
      ]
     },
     "metadata": {},
     "output_type": "display_data"
    }
   ],
   "source": [
    "import matplotlib.pyplot as plt\n",
    "import seaborn as sns\n",
    "\n",
    "df1 = pd.DataFrame(df,columns = ['fico_range_low', 'revol_util', 'pub_rec_bankruptcies', 'pub_rec',\n",
    "'annual_inc', 'int_rate', 'dti', 'mort_acc', 'loan_amnt', 'installment', 'fico_range_high', 'revol_bal', 'open_acc', 'emp_length', 'loan_status' ])\n",
    "corrMatrix = df1.corr()\n",
    "\n",
    "plt.figure(figsize=(10, 7)) \n",
    "colormap = sns.color_palette(\"coolwarm\", as_cmap=True)\n",
    "\n",
    "sns.heatmap(corrMatrix, annot=True, annot_kws={\"size\": 8, \"ha\": 'center', \"va\": 'center'}, fmt=\".2f\", cmap=colormap)\n",
    "\n",
    "plt.title('Correlation Matrix', fontsize=12, pad=15)\n",
    "\n",
    "plt.show()\n"
   ]
  },
  {
   "cell_type": "code",
   "execution_count": 12,
   "metadata": {},
   "outputs": [
    {
     "name": "stdout",
     "output_type": "stream",
     "text": [
      "Note: you may need to restart the kernel to use updated packages.\n",
      "Requirement already satisfied: scikit-learn in d:\\python\\lib\\site-packages (1.2.0)\n",
      "Requirement already satisfied: numpy>=1.17.3 in d:\\python\\lib\\site-packages (from scikit-learn) (1.23.5)\n",
      "Requirement already satisfied: scipy>=1.3.2 in d:\\python\\lib\\site-packages (from scikit-learn) (1.12.0)\n",
      "Requirement already satisfied: joblib>=1.1.1 in d:\\python\\lib\\site-packages (from scikit-learn) (1.2.0)\n",
      "Requirement already satisfied: threadpoolctl>=2.0.0 in d:\\python\\lib\\site-packages (from scikit-learn) (3.1.0)\n"
     ]
    },
    {
     "name": "stderr",
     "output_type": "stream",
     "text": [
      "\n",
      "[notice] A new release of pip available: 22.3 -> 24.0\n",
      "[notice] To update, run: python.exe -m pip install --upgrade pip\n"
     ]
    }
   ],
   "source": [
    "pip install scikit-learn"
   ]
  },
  {
   "cell_type": "code",
   "execution_count": 16,
   "metadata": {},
   "outputs": [],
   "source": [
    "from sklearn.tree import DecisionTreeClassifier\n",
    "from sklearn.linear_model import LogisticRegression\n",
    "from sklearn.ensemble import RandomForestClassifier\n",
    "import xgboost as xgb\n",
    "from xgboost.sklearn import XGBClassifier\n",
    "from sklearn.svm import SVC\n",
    "from sklearn.ensemble import AdaBoostClassifier\n",
    "from sklearn.preprocessing import StandardScaler\n",
    "from sklearn.metrics import classification_report, confusion_matrix, accuracy_score, roc_auc_score\n",
    "from sklearn.metrics import roc_curve, auc\n",
    "from sklearn.model_selection import cross_val_score\n",
    "from sklearn.model_selection import train_test_split\n",
    "import matplotlib.pyplot as plt\n",
    "import seaborn as sns"
   ]
  },
  {
   "cell_type": "code",
   "execution_count": 17,
   "metadata": {},
   "outputs": [],
   "source": [
    "target = ['loan_status']\n",
    "features = ['sub_grade', 'term', 'home_ownership', 'fico_range_low',\n",
    "       'pub_rec', 'revol_util', 'annual_inc', 'int_rate', 'dti', 'purpose',\n",
    "       'mort_acc', 'loan_amnt', 'application_type', 'installment',\n",
    "       'verification_status', 'pub_rec_bankruptcies', 'initial_list_status',\n",
    "       'fico_range_high', 'revol_bal', 'open_acc', 'emp_length',]"
   ]
  },
  {
   "cell_type": "code",
   "execution_count": 18,
   "metadata": {},
   "outputs": [],
   "source": [
    "X = df[features].values\n",
    "y = df[target].values\n",
    "\n",
    "n_state = 42\n",
    "X_train, X_test, y_train, y_test = train_test_split(X, y, test_size = 0.2, random_state=n_state)"
   ]
  },
  {
   "cell_type": "code",
   "execution_count": 19,
   "metadata": {},
   "outputs": [],
   "source": [
    "# Perform feature scaling\n",
    "scaler = StandardScaler()\n",
    "X_train = scaler.fit_transform(X_train)\n",
    "X_test = scaler.transform(X_test)"
   ]
  },
  {
   "cell_type": "code",
   "execution_count": 22,
   "metadata": {},
   "outputs": [
    {
     "name": "stdout",
     "output_type": "stream",
     "text": [
      "Confusion matrix:\n",
      "        0      1\n",
      "0  128678      0\n",
      "1       3  44104 \n",
      "\n",
      "Classification report:\n",
      "              precision    recall  f1-score   support\n",
      "\n",
      "           0       1.00      1.00      1.00    128678\n",
      "           1       1.00      1.00      1.00     44107\n",
      "\n",
      "    accuracy                           1.00    172785\n",
      "   macro avg       1.00      1.00      1.00    172785\n",
      "weighted avg       1.00      1.00      1.00    172785\n",
      "\n",
      "Random Forest accuracy:  1.0\n"
     ]
    }
   ],
   "source": [
    "#TRAIN RANDOM FOREST MODEL\n",
    "RF_classifier = RandomForestClassifier()\n",
    "RF_classifier.fit(X_train, y_train.ravel())\n",
    "\n",
    "y_pred = RF_classifier.predict(X_train)\n",
    "print('Confusion matrix:')\n",
    "print(pd.DataFrame(confusion_matrix(y_train,y_pred)),'\\n')\n",
    "\n",
    "print('Classification report:')\n",
    "print(classification_report(y_train,y_pred))\n",
    "\n",
    "print('Random Forest accuracy: ', round(accuracy_score(y_train, y_pred),2))"
   ]
  },
  {
   "cell_type": "code",
   "execution_count": 32,
   "metadata": {},
   "outputs": [
    {
     "name": "stdout",
     "output_type": "stream",
     "text": [
      "[[31026  1330]\n",
      " [ 9415  1426]]\n",
      "              precision    recall  f1-score   support\n",
      "\n",
      "           0       0.77      0.96      0.85     32356\n",
      "           1       0.52      0.13      0.21     10841\n",
      "\n",
      "    accuracy                           0.75     43197\n",
      "   macro avg       0.64      0.55      0.53     43197\n",
      "weighted avg       0.70      0.75      0.69     43197\n",
      "\n",
      "Random Forest accuracy:  0.7512558742505266\n"
     ]
    }
   ],
   "source": [
    "#TEST RANDOM FOREST MODEL\n",
    "y_pred = RF_classifier.predict(X_test)\n",
    "print(confusion_matrix(y_test,y_pred))\n",
    "print(classification_report(y_test,y_pred))\n",
    "print('Random Forest accuracy: ', accuracy_score(y_test, y_pred))"
   ]
  },
  {
   "cell_type": "code",
   "execution_count": 33,
   "metadata": {},
   "outputs": [
    {
     "data": {
      "text/plain": [
       "0.6829095423162725"
      ]
     },
     "execution_count": 33,
     "metadata": {},
     "output_type": "execute_result"
    }
   ],
   "source": [
    "#ROC - RANDOM FOREST\n",
    "y_pred_prob_test = RF_classifier.predict_proba(X_test)[:, 1]\n",
    "fpr, tpr, thres = roc_curve(y_test, y_pred_prob_test)\n",
    "roc_auc = auc(fpr, tpr)\n",
    "roc_auc "
   ]
  },
  {
   "cell_type": "code",
   "execution_count": 34,
   "metadata": {},
   "outputs": [
    {
     "name": "stdout",
     "output_type": "stream",
     "text": [
      "Confusion matrix:\n",
      "        0     1\n",
      "0  125102  3576\n",
      "1   35559  8548 \n",
      "\n",
      "Classification report:\n",
      "              precision    recall  f1-score   support\n",
      "\n",
      "           0       0.78      0.97      0.86    128678\n",
      "           1       0.71      0.19      0.30     44107\n",
      "\n",
      "    accuracy                           0.77    172785\n",
      "   macro avg       0.74      0.58      0.58    172785\n",
      "weighted avg       0.76      0.77      0.72    172785\n",
      "\n",
      "XGB Classifier accuracy:  0.77\n"
     ]
    }
   ],
   "source": [
    "#TRAIN XGB CLASSIFER\n",
    "XGB_classifier = XGBClassifier()\n",
    "XGB_classifier .fit(X_train, y_train.ravel())\n",
    "\n",
    "y_pred = XGB_classifier.predict(X_train)\n",
    "print('Confusion matrix:')\n",
    "print(pd.DataFrame(confusion_matrix(y_train,y_pred)),'\\n')\n",
    "\n",
    "print('Classification report:')\n",
    "print(classification_report(y_train,y_pred))\n",
    "\n",
    "print('XGB Classifier accuracy: ', round(accuracy_score(y_train, y_pred),2))"
   ]
  },
  {
   "cell_type": "code",
   "execution_count": 35,
   "metadata": {},
   "outputs": [
    {
     "name": "stdout",
     "output_type": "stream",
     "text": [
      "[[30969  1387]\n",
      " [ 9300  1541]]\n",
      "              precision    recall  f1-score   support\n",
      "\n",
      "           0       0.77      0.96      0.85     32356\n",
      "           1       0.53      0.14      0.22     10841\n",
      "\n",
      "    accuracy                           0.75     43197\n",
      "   macro avg       0.65      0.55      0.54     43197\n",
      "weighted avg       0.71      0.75      0.69     43197\n",
      "\n",
      "XGBoost accuracy:  0.7525985600851911\n"
     ]
    }
   ],
   "source": [
    "#TEST XGB CLASSIFIER\n",
    "y_pred = XGB_classifier.predict(X_test)\n",
    "print(confusion_matrix(y_test,y_pred))\n",
    "print(classification_report(y_test,y_pred))\n",
    "print('XGBoost accuracy: ', accuracy_score(y_test, y_pred))"
   ]
  },
  {
   "cell_type": "code",
   "execution_count": 36,
   "metadata": {},
   "outputs": [
    {
     "data": {
      "text/plain": [
       "0.6985500308582744"
      ]
     },
     "execution_count": 36,
     "metadata": {},
     "output_type": "execute_result"
    }
   ],
   "source": [
    "#ROC XGB CLASSIFIER\n",
    "y_pred_prob_test = XGB_classifier.predict_proba(X_test)[:, 1]\n",
    "fpr, tpr, thres = roc_curve(y_test, y_pred_prob_test)\n",
    "roc_auc = auc(fpr, tpr)\n",
    "roc_auc "
   ]
  },
  {
   "cell_type": "code",
   "execution_count": 37,
   "metadata": {},
   "outputs": [
    {
     "data": {
      "text/html": [
       "<div>\n",
       "<style scoped>\n",
       "    .dataframe tbody tr th:only-of-type {\n",
       "        vertical-align: middle;\n",
       "    }\n",
       "\n",
       "    .dataframe tbody tr th {\n",
       "        vertical-align: top;\n",
       "    }\n",
       "\n",
       "    .dataframe thead th {\n",
       "        text-align: right;\n",
       "    }\n",
       "</style>\n",
       "<table border=\"1\" class=\"dataframe\">\n",
       "  <thead>\n",
       "    <tr style=\"text-align: right;\">\n",
       "      <th></th>\n",
       "      <th>FeatureName</th>\n",
       "      <th>XGBoost Feature Importance</th>\n",
       "    </tr>\n",
       "  </thead>\n",
       "  <tbody>\n",
       "    <tr>\n",
       "      <th>0</th>\n",
       "      <td>loan_amnt</td>\n",
       "      <td>0.298955</td>\n",
       "    </tr>\n",
       "    <tr>\n",
       "      <th>7</th>\n",
       "      <td>annual_inc</td>\n",
       "      <td>0.125998</td>\n",
       "    </tr>\n",
       "    <tr>\n",
       "      <th>2</th>\n",
       "      <td>int_rate</td>\n",
       "      <td>0.092489</td>\n",
       "    </tr>\n",
       "    <tr>\n",
       "      <th>1</th>\n",
       "      <td>term</td>\n",
       "      <td>0.082100</td>\n",
       "    </tr>\n",
       "    <tr>\n",
       "      <th>11</th>\n",
       "      <td>dti</td>\n",
       "      <td>0.038469</td>\n",
       "    </tr>\n",
       "    <tr>\n",
       "      <th>12</th>\n",
       "      <td>fico_range_low</td>\n",
       "      <td>0.034524</td>\n",
       "    </tr>\n",
       "    <tr>\n",
       "      <th>3</th>\n",
       "      <td>installment</td>\n",
       "      <td>0.033594</td>\n",
       "    </tr>\n",
       "    <tr>\n",
       "      <th>13</th>\n",
       "      <td>fico_range_high</td>\n",
       "      <td>0.030052</td>\n",
       "    </tr>\n",
       "    <tr>\n",
       "      <th>14</th>\n",
       "      <td>open_acc</td>\n",
       "      <td>0.029119</td>\n",
       "    </tr>\n",
       "    <tr>\n",
       "      <th>8</th>\n",
       "      <td>verification_status</td>\n",
       "      <td>0.028372</td>\n",
       "    </tr>\n",
       "    <tr>\n",
       "      <th>9</th>\n",
       "      <td>loan_status</td>\n",
       "      <td>0.027916</td>\n",
       "    </tr>\n",
       "    <tr>\n",
       "      <th>18</th>\n",
       "      <td>initial_list_status</td>\n",
       "      <td>0.024160</td>\n",
       "    </tr>\n",
       "    <tr>\n",
       "      <th>6</th>\n",
       "      <td>home_ownership</td>\n",
       "      <td>0.023930</td>\n",
       "    </tr>\n",
       "    <tr>\n",
       "      <th>4</th>\n",
       "      <td>sub_grade</td>\n",
       "      <td>0.021920</td>\n",
       "    </tr>\n",
       "    <tr>\n",
       "      <th>5</th>\n",
       "      <td>emp_length</td>\n",
       "      <td>0.021555</td>\n",
       "    </tr>\n",
       "    <tr>\n",
       "      <th>20</th>\n",
       "      <td>mort_acc</td>\n",
       "      <td>0.019711</td>\n",
       "    </tr>\n",
       "    <tr>\n",
       "      <th>19</th>\n",
       "      <td>application_type</td>\n",
       "      <td>0.018927</td>\n",
       "    </tr>\n",
       "    <tr>\n",
       "      <th>15</th>\n",
       "      <td>pub_rec</td>\n",
       "      <td>0.016942</td>\n",
       "    </tr>\n",
       "    <tr>\n",
       "      <th>10</th>\n",
       "      <td>purpose</td>\n",
       "      <td>0.016202</td>\n",
       "    </tr>\n",
       "    <tr>\n",
       "      <th>16</th>\n",
       "      <td>revol_bal</td>\n",
       "      <td>0.015065</td>\n",
       "    </tr>\n",
       "    <tr>\n",
       "      <th>17</th>\n",
       "      <td>revol_util</td>\n",
       "      <td>0.000000</td>\n",
       "    </tr>\n",
       "  </tbody>\n",
       "</table>\n",
       "</div>"
      ],
      "text/plain": [
       "            FeatureName  XGBoost Feature Importance\n",
       "0             loan_amnt                    0.298955\n",
       "7            annual_inc                    0.125998\n",
       "2              int_rate                    0.092489\n",
       "1                  term                    0.082100\n",
       "11                  dti                    0.038469\n",
       "12       fico_range_low                    0.034524\n",
       "3           installment                    0.033594\n",
       "13      fico_range_high                    0.030052\n",
       "14             open_acc                    0.029119\n",
       "8   verification_status                    0.028372\n",
       "9           loan_status                    0.027916\n",
       "18  initial_list_status                    0.024160\n",
       "6        home_ownership                    0.023930\n",
       "4             sub_grade                    0.021920\n",
       "5            emp_length                    0.021555\n",
       "20             mort_acc                    0.019711\n",
       "19     application_type                    0.018927\n",
       "15              pub_rec                    0.016942\n",
       "10              purpose                    0.016202\n",
       "16            revol_bal                    0.015065\n",
       "17           revol_util                    0.000000"
      ]
     },
     "execution_count": 37,
     "metadata": {},
     "output_type": "execute_result"
    }
   ],
   "source": [
    "importance_xgb = XGB_classifier.feature_importances_\n",
    "features_importances_xgb = pd.DataFrame({'FeatureName': df.columns[0:len(df.columns)-1], 'XGBoost Feature Importance': importance_xgb})\n",
    "features_importances_xgb.sort_values(by=['XGBoost Feature Importance'], ascending=False)"
   ]
  },
  {
   "cell_type": "code",
   "execution_count": 38,
   "metadata": {},
   "outputs": [
    {
     "data": {
      "text/plain": [
       "<AxesSubplot: ylabel='FeatureName'>"
      ]
     },
     "execution_count": 38,
     "metadata": {},
     "output_type": "execute_result"
    },
    {
     "data": {
      "image/png": "[encoded data removed]",
      "text/plain": [
       "<Figure size 1500x800 with 1 Axes>"
      ]
     },
     "metadata": {},
     "output_type": "display_data"
    }
   ],
   "source": [
    "features_importances_xgb.sort_values(\"XGBoost Feature Importance\").plot(figsize=(15,8), x=\"FeatureName\", y=[\"XGBoost Feature Importance\"], kind=\"barh\")"
   ]
  },
  {
   "cell_type": "code",
   "execution_count": 39,
   "metadata": {},
   "outputs": [
    {
     "name": "stdout",
     "output_type": "stream",
     "text": [
      "Confusion matrix:\n",
      "        0     1\n",
      "0  125075  3603\n",
      "1   39674  4433 \n",
      "\n",
      "Classification report:\n",
      "              precision    recall  f1-score   support\n",
      "\n",
      "           0       0.76      0.97      0.85    128678\n",
      "           1       0.55      0.10      0.17     44107\n",
      "\n",
      "    accuracy                           0.75    172785\n",
      "   macro avg       0.66      0.54      0.51    172785\n",
      "weighted avg       0.71      0.75      0.68    172785\n",
      "\n",
      "Logistic Regression accuracy:  0.7495\n"
     ]
    }
   ],
   "source": [
    "#TRAIN LOGISTIC REGRESSION MODEL\n",
    "LR_classifier = LogisticRegression(multi_class='multinomial',random_state=n_state)\n",
    "LR_classifier.fit(X_train, y_train.ravel())\n",
    "y_pred = LR_classifier.predict(X_train)\n",
    "print('Confusion matrix:')\n",
    "print(pd.DataFrame(confusion_matrix(y_train,y_pred)),'\\n')\n",
    "print('Classification report:')\n",
    "print(classification_report(y_train,y_pred))\n",
    "print('Logistic Regression accuracy: ', round(accuracy_score(y_train, y_pred),4))"
   ]
  },
  {
   "cell_type": "code",
   "execution_count": 40,
   "metadata": {},
   "outputs": [
    {
     "name": "stdout",
     "output_type": "stream",
     "text": [
      "Confusion matrix:\n",
      "       0     1\n",
      "0  31386   970\n",
      "1   9746  1095 \n",
      "\n",
      "Classification report:\n",
      "              precision    recall  f1-score   support\n",
      "\n",
      "           0       0.76      0.97      0.85     32356\n",
      "           1       0.53      0.10      0.17     10841\n",
      "\n",
      "    accuracy                           0.75     43197\n",
      "   macro avg       0.65      0.54      0.51     43197\n",
      "weighted avg       0.70      0.75      0.68     43197\n",
      "\n",
      "Logistic Regression accuracy:  0.7519\n"
     ]
    }
   ],
   "source": [
    "#TEST LOGISTIC REGRESSION MODEL\n",
    "y_pred = LR_classifier.predict(X_test)\n",
    "print('Confusion matrix:')\n",
    "print(pd.DataFrame(confusion_matrix(y_test,y_pred)),'\\n')\n",
    "print('Classification report:')\n",
    "print(classification_report(y_test,y_pred))\n",
    "print('Logistic Regression accuracy: ', round(accuracy_score(y_test, y_pred),4))\n"
   ]
  },
  {
   "cell_type": "code",
   "execution_count": 41,
   "metadata": {},
   "outputs": [
    {
     "data": {
      "text/plain": [
       "0.6918148251746274"
      ]
     },
     "execution_count": 41,
     "metadata": {},
     "output_type": "execute_result"
    }
   ],
   "source": [
    "# ROC-LOGISTIC REGRESSION MODEL\n",
    "y_pred_prob_test = LR_classifier.predict_proba(X_test)[:, 1]\n",
    "fpr, tpr, thres = roc_curve(y_test, y_pred_prob_test)\n",
    "roc_auc = auc(fpr, tpr)\n",
    "roc_auc "
   ]
  },
  {
   "cell_type": "code",
   "execution_count": 42,
   "metadata": {},
   "outputs": [
    {
     "name": "stdout",
     "output_type": "stream",
     "text": [
      "Confusion matrix:\n",
      "        0      1\n",
      "0  128678      0\n",
      "1       0  44107 \n",
      "\n",
      "Classification report:\n",
      "              precision    recall  f1-score   support\n",
      "\n",
      "           0       1.00      1.00      1.00    128678\n",
      "           1       1.00      1.00      1.00     44107\n",
      "\n",
      "    accuracy                           1.00    172785\n",
      "   macro avg       1.00      1.00      1.00    172785\n",
      "weighted avg       1.00      1.00      1.00    172785\n",
      "\n",
      "Decision Tree accuracy:  1.0\n"
     ]
    }
   ],
   "source": [
    "#TRAIN DECISION TREE MODEL\n",
    "DT_classifier = DecisionTreeClassifier()\n",
    "DT_classifier.fit(X_train, y_train.ravel())\n",
    "\n",
    "y_pred = DT_classifier.predict(X_train)\n",
    "print('Confusion matrix:')\n",
    "print(pd.DataFrame(confusion_matrix(y_train,y_pred)),'\\n')\n",
    "\n",
    "print('Classification report:')\n",
    "print(classification_report(y_train,y_pred))\n",
    "\n",
    "print('Decision Tree accuracy: ', round(accuracy_score(y_train, y_pred),2))"
   ]
  },
  {
   "cell_type": "code",
   "execution_count": 43,
   "metadata": {},
   "outputs": [
    {
     "name": "stdout",
     "output_type": "stream",
     "text": [
      "Confusion matrix:\n",
      "       0     1\n",
      "0  24264  8092\n",
      "1   7048  3793 \n",
      "\n",
      "Classification report:\n",
      "              precision    recall  f1-score   support\n",
      "\n",
      "           0       0.77      0.75      0.76     32356\n",
      "           1       0.32      0.35      0.33     10841\n",
      "\n",
      "    accuracy                           0.65     43197\n",
      "   macro avg       0.55      0.55      0.55     43197\n",
      "weighted avg       0.66      0.65      0.65     43197\n",
      "\n",
      "Decision Tree accuracy:  0.65\n"
     ]
    }
   ],
   "source": [
    "#TEST DECISION TREE MODEL\n",
    "y_pred = DT_classifier.predict(X_test)\n",
    "print('Confusion matrix:')\n",
    "print(pd.DataFrame(confusion_matrix(y_test,y_pred)),'\\n')\n",
    "\n",
    "print('Classification report:')\n",
    "print(classification_report(y_test,y_pred))\n",
    "\n",
    "print('Decision Tree accuracy: ', round(accuracy_score(y_test, y_pred),2))"
   ]
  },
  {
   "cell_type": "code",
   "execution_count": 44,
   "metadata": {},
   "outputs": [
    {
     "data": {
      "text/plain": [
       "0.5498913771178764"
      ]
     },
     "execution_count": 44,
     "metadata": {},
     "output_type": "execute_result"
    }
   ],
   "source": [
    "#ROC DECISION TREE\n",
    "y_pred_prob_test = DT_classifier.predict_proba(X_test)[:, 1]\n",
    "fpr, tpr, thres = roc_curve(y_test, y_pred_prob_test)\n",
    "roc_auc = auc(fpr, tpr)\n",
    "roc_auc "
   ]
  },
  {
   "cell_type": "code",
   "execution_count": 45,
   "metadata": {},
   "outputs": [
    {
     "name": "stdout",
     "output_type": "stream",
     "text": [
      "Confusion matrix:\n",
      "        0     1\n",
      "0  124718  3960\n",
      "1   39183  4924 \n",
      "\n",
      "Classification report:\n",
      "              precision    recall  f1-score   support\n",
      "\n",
      "           0       0.76      0.97      0.85    128678\n",
      "           1       0.55      0.11      0.19     44107\n",
      "\n",
      "    accuracy                           0.75    172785\n",
      "   macro avg       0.66      0.54      0.52    172785\n",
      "weighted avg       0.71      0.75      0.68    172785\n",
      "\n",
      "ADA Boost accuracy: 0.75\n"
     ]
    }
   ],
   "source": [
    "#TRAIN ADA BOOST\n",
    "ada_classifier = AdaBoostClassifier()\n",
    "ada_classifier.fit(X_train, y_train.ravel())\n",
    "y_pred = ada_classifier.predict(X_train)\n",
    "print('Confusion matrix:')\n",
    "print(pd.DataFrame(confusion_matrix(y_train, y_pred)), '\\n')\n",
    "print('Classification report:')\n",
    "print(classification_report(y_train, y_pred))\n",
    "print('ADA Boost accuracy:', round(accuracy_score(y_train, y_pred), 2))"
   ]
  },
  {
   "cell_type": "code",
   "execution_count": 46,
   "metadata": {},
   "outputs": [
    {
     "name": "stdout",
     "output_type": "stream",
     "text": [
      "[[31320  1036]\n",
      " [ 9620  1221]]\n",
      "              precision    recall  f1-score   support\n",
      "\n",
      "           0       0.77      0.97      0.85     32356\n",
      "           1       0.54      0.11      0.19     10841\n",
      "\n",
      "    accuracy                           0.75     43197\n",
      "   macro avg       0.65      0.54      0.52     43197\n",
      "weighted avg       0.71      0.75      0.69     43197\n",
      "\n",
      "ADABoost accuracy:  0.7533162025140635\n"
     ]
    }
   ],
   "source": [
    "#TEST ADA BOOST\n",
    "y_pred = ada_classifier.predict(X_test)\n",
    "print(confusion_matrix(y_test,y_pred))\n",
    "print(classification_report(y_test,y_pred))\n",
    "print('ADABoost accuracy: ', accuracy_score(y_test, y_pred))"
   ]
  },
  {
   "cell_type": "code",
   "execution_count": 47,
   "metadata": {},
   "outputs": [
    {
     "data": {
      "text/plain": [
       "0.693009745868788"
      ]
     },
     "execution_count": 47,
     "metadata": {},
     "output_type": "execute_result"
    }
   ],
   "source": [
    "#ROC ADA\n",
    "y_pred_prob_test = ada_classifier.predict_proba(X_test)[:, 1]\n",
    "fpr, tpr, thres = roc_curve(y_test, y_pred_prob_test)\n",
    "roc_auc = auc(fpr, tpr)\n",
    "roc_auc "
   ]
  },
  {
   "cell_type": "code",
   "execution_count": 19,
   "metadata": {},
   "outputs": [
    {
     "name": "stdout",
     "output_type": "stream",
     "text": [
      "Collecting lightgbmNote: you may need to restart the kernel to use updated packages.\n"
     ]
    },
    {
     "name": "stderr",
     "output_type": "stream",
     "text": [
      "\n",
      "[notice] A new release of pip available: 22.3 -> 24.0\n",
      "[notice] To update, run: python.exe -m pip install --upgrade pip\n"
     ]
    },
    {
     "name": "stdout",
     "output_type": "stream",
     "text": [
      "\n",
      "  Downloading lightgbm-4.3.0-py3-none-win_amd64.whl (1.3 MB)\n",
      "     ---------------------------------------- 1.3/1.3 MB 7.1 MB/s eta 0:00:00\n",
      "Requirement already satisfied: numpy in d:\\python\\lib\\site-packages (from lightgbm) (1.23.5)\n",
      "Requirement already satisfied: scipy in d:\\python\\lib\\site-packages (from lightgbm) (1.12.0)\n",
      "Installing collected packages: lightgbm\n",
      "Successfully installed lightgbm-4.3.0\n"
     ]
    }
   ],
   "source": [
    "pip install lightgbm"
   ]
  },
  {
   "cell_type": "code",
   "execution_count": 20,
   "metadata": {},
   "outputs": [],
   "source": [
    "import lightgbm as lgb"
   ]
  },
  {
   "cell_type": "code",
   "execution_count": 23,
   "metadata": {},
   "outputs": [
    {
     "name": "stdout",
     "output_type": "stream",
     "text": [
      "[LightGBM] [Info] Number of positive: 44107, number of negative: 128678\n",
      "[LightGBM] [Info] Auto-choosing col-wise multi-threading, the overhead of testing was 0.012502 seconds.\n",
      "You can set `force_col_wise=true` to remove the overhead.\n",
      "[LightGBM] [Info] Total Bins 1562\n",
      "[LightGBM] [Info] Number of data points in the train set: 172785, number of used features: 21\n",
      "[LightGBM] [Info] [binary:BoostFromScore]: pavg=0.255271 -> initscore=-1.070695\n",
      "[LightGBM] [Info] Start training from score -1.070695\n",
      "Confusion matrix:\n",
      "        0     1\n",
      "0  125025  3653\n",
      "1   38124  5983 \n",
      "\n",
      "Classification report:\n",
      "              precision    recall  f1-score   support\n",
      "\n",
      "           0       0.77      0.97      0.86    128678\n",
      "           1       0.62      0.14      0.22     44107\n",
      "\n",
      "    accuracy                           0.76    172785\n",
      "   macro avg       0.69      0.55      0.54    172785\n",
      "weighted avg       0.73      0.76      0.69    172785\n",
      "\n",
      "Light GBM accuracy: 0.76\n"
     ]
    }
   ],
   "source": [
    "#TRAIN LIGHT GBM\n",
    "import lightgbm as lgb\n",
    "lgbm = lgb.LGBMClassifier()\n",
    "lgbm.fit(X_train, y_train.ravel())\n",
    "y_pred = lgbm.predict(X_train)\n",
    "print('Confusion matrix:')\n",
    "print(pd.DataFrame(confusion_matrix(y_train, y_pred)), '\\n')\n",
    "print('Classification report:')\n",
    "print(classification_report(y_train, y_pred))\n",
    "print('Light GBM accuracy:', round(accuracy_score(y_train, y_pred), 2))"
   ]
  },
  {
   "cell_type": "code",
   "execution_count": 24,
   "metadata": {},
   "outputs": [
    {
     "name": "stdout",
     "output_type": "stream",
     "text": [
      "[[31273  1083]\n",
      " [ 9492  1349]]\n",
      "              precision    recall  f1-score   support\n",
      "\n",
      "           0       0.77      0.97      0.86     32356\n",
      "           1       0.55      0.12      0.20     10841\n",
      "\n",
      "    accuracy                           0.76     43197\n",
      "   macro avg       0.66      0.55      0.53     43197\n",
      "weighted avg       0.71      0.76      0.69     43197\n",
      "\n",
      "LightGBM accuracy:  0.7551913327314397\n"
     ]
    }
   ],
   "source": [
    "#TEST LIGHT GBM \n",
    "y_pred = lgbm.predict(X_test)\n",
    "print(confusion_matrix(y_test,y_pred))\n",
    "print(classification_report(y_test,y_pred))\n",
    "print('LightGBM accuracy: ', accuracy_score(y_test, y_pred))"
   ]
  },
  {
   "cell_type": "code",
   "execution_count": 25,
   "metadata": {},
   "outputs": [
    {
     "data": {
      "text/plain": [
       "0.7028313534436542"
      ]
     },
     "execution_count": 25,
     "metadata": {},
     "output_type": "execute_result"
    }
   ],
   "source": [
    "#ROC LIGHT GBM\n",
    "y_pred_prob_test = lgbm.predict_proba(X_test)[:, 1]\n",
    "fpr, tpr, thres = roc_curve(y_test, y_pred_prob_test)\n",
    "roc_auc = auc(fpr, tpr)\n",
    "roc_auc "
   ]
  },
  {
   "cell_type": "code",
   "execution_count": null,
   "metadata": {},
   "outputs": [
    {
     "data": {
      "application/vnd.plotly.v1+json": {
       "config": {
        "plotlyServerURL": "https://plot.ly"
       },
       "data": [
        {
         "hole": 0.3,
         "labels": [
          "Fully-Paid",
          "Charged-Off"
         ],
         "marker": {
          "colors": [
           "#c7e5ff",
           "#94ccff"
          ]
         },
         "type": "pie",
         "values": [
          74.56,
          25.44
         ]
        }
       ],
       "layout": {
        "font": {
         "family": "Arial",
         "size": 12
        },
        "height": 400,
        "legend": {
         "orientation": "v",
         "x": 1.02,
         "xanchor": "right",
         "y": 1,
         "yanchor": "top"
        },
        "margin": {
         "b": 20,
         "l": 20,
         "r": 20,
         "t": 40
        },
        "paper_bgcolor": "white",
        "plot_bgcolor": "white",
        "template": {
         "data": {
          "bar": [
           {
            "error_x": {
             "color": "#2a3f5f"
            },
            "error_y": {
             "color": "#2a3f5f"
            },
            "marker": {
             "line": {
              "color": "#E5ECF6",
              "width": 0.5
             },
             "pattern": {
              "fillmode": "overlay",
              "size": 10,
              "solidity": 0.2
             }
            },
            "type": "bar"
           }
          ],
          "barpolar": [
           {
            "marker": {
             "line": {
              "color": "#E5ECF6",
              "width": 0.5
             },
             "pattern": {
              "fillmode": "overlay",
              "size": 10,
              "solidity": 0.2
             }
            },
            "type": "barpolar"
           }
          ],
          "carpet": [
           {
            "aaxis": {
             "endlinecolor": "#2a3f5f",
             "gridcolor": "white",
             "linecolor": "white",
             "minorgridcolor": "white",
             "startlinecolor": "#2a3f5f"
            },
            "baxis": {
             "endlinecolor": "#2a3f5f",
             "gridcolor": "white",
             "linecolor": "white",
             "minorgridcolor": "white",
             "startlinecolor": "#2a3f5f"
            },
            "type": "carpet"
           }
          ],
          "choropleth": [
           {
            "colorbar": {
             "outlinewidth": 0,
             "ticks": ""
            },
            "type": "choropleth"
           }
          ],
          "contour": [
           {
            "colorbar": {
             "outlinewidth": 0,
             "ticks": ""
            },
            "colorscale": [
             [
              0,
              "#0d0887"
             ],
             [
              0.1111111111111111,
              "#46039f"
             ],
             [
              0.2222222222222222,
              "#7201a8"
             ],
             [
              0.3333333333333333,
              "#9c179e"
             ],
             [
              0.4444444444444444,
              "#bd3786"
             ],
             [
              0.5555555555555556,
              "#d8576b"
             ],
             [
              0.6666666666666666,
              "#ed7953"
             ],
             [
              0.7777777777777778,
              "#fb9f3a"
             ],
             [
              0.8888888888888888,
              "#fdca26"
             ],
             [
              1,
              "#f0f921"
             ]
            ],
            "type": "contour"
           }
          ],
          "contourcarpet": [
           {
            "colorbar": {
             "outlinewidth": 0,
             "ticks": ""
            },
            "type": "contourcarpet"
           }
          ],
          "heatmap": [
           {
            "colorbar": {
             "outlinewidth": 0,
             "ticks": ""
            },
            "colorscale": [
             [
              0,
              "#0d0887"
             ],
             [
              0.1111111111111111,
              "#46039f"
             ],
             [
              0.2222222222222222,
              "#7201a8"
             ],
             [
              0.3333333333333333,
              "#9c179e"
             ],
             [
              0.4444444444444444,
              "#bd3786"
             ],
             [
              0.5555555555555556,
              "#d8576b"
             ],
             [
              0.6666666666666666,
              "#ed7953"
             ],
             [
              0.7777777777777778,
              "#fb9f3a"
             ],
             [
              0.8888888888888888,
              "#fdca26"
             ],
             [
              1,
              "#f0f921"
             ]
            ],
            "type": "heatmap"
           }
          ],
          "heatmapgl": [
           {
            "colorbar": {
             "outlinewidth": 0,
             "ticks": ""
            },
            "colorscale": [
             [
              0,
              "#0d0887"
             ],
             [
              0.1111111111111111,
              "#46039f"
             ],
             [
              0.2222222222222222,
              "#7201a8"
             ],
             [
              0.3333333333333333,
              "#9c179e"
             ],
             [
              0.4444444444444444,
              "#bd3786"
             ],
             [
              0.5555555555555556,
              "#d8576b"
             ],
             [
              0.6666666666666666,
              "#ed7953"
             ],
             [
              0.7777777777777778,
              "#fb9f3a"
             ],
             [
              0.8888888888888888,
              "#fdca26"
             ],
             [
              1,
              "#f0f921"
             ]
            ],
            "type": "heatmapgl"
           }
          ],
          "histogram": [
           {
            "marker": {
             "pattern": {
              "fillmode": "overlay",
              "size": 10,
              "solidity": 0.2
             }
            },
            "type": "histogram"
           }
          ],
          "histogram2d": [
           {
            "colorbar": {
             "outlinewidth": 0,
             "ticks": ""
            },
            "colorscale": [
             [
              0,
              "#0d0887"
             ],
             [
              0.1111111111111111,
              "#46039f"
             ],
             [
              0.2222222222222222,
              "#7201a8"
             ],
             [
              0.3333333333333333,
              "#9c179e"
             ],
             [
              0.4444444444444444,
              "#bd3786"
             ],
             [
              0.5555555555555556,
              "#d8576b"
             ],
             [
              0.6666666666666666,
              "#ed7953"
             ],
             [
              0.7777777777777778,
              "#fb9f3a"
             ],
             [
              0.8888888888888888,
              "#fdca26"
             ],
             [
              1,
              "#f0f921"
             ]
            ],
            "type": "histogram2d"
           }
          ],
          "histogram2dcontour": [
           {
            "colorbar": {
             "outlinewidth": 0,
             "ticks": ""
            },
            "colorscale": [
             [
              0,
              "#0d0887"
             ],
             [
              0.1111111111111111,
              "#46039f"
             ],
             [
              0.2222222222222222,
              "#7201a8"
             ],
             [
              0.3333333333333333,
              "#9c179e"
             ],
             [
              0.4444444444444444,
              "#bd3786"
             ],
             [
              0.5555555555555556,
              "#d8576b"
             ],
             [
              0.6666666666666666,
              "#ed7953"
             ],
             [
              0.7777777777777778,
              "#fb9f3a"
             ],
             [
              0.8888888888888888,
              "#fdca26"
             ],
             [
              1,
              "#f0f921"
             ]
            ],
            "type": "histogram2dcontour"
           }
          ],
          "mesh3d": [
           {
            "colorbar": {
             "outlinewidth": 0,
             "ticks": ""
            },
            "type": "mesh3d"
           }
          ],
          "parcoords": [
           {
            "line": {
             "colorbar": {
              "outlinewidth": 0,
              "ticks": ""
             }
            },
            "type": "parcoords"
           }
          ],
          "pie": [
           {
            "automargin": true,
            "type": "pie"
           }
          ],
          "scatter": [
           {
            "fillpattern": {
             "fillmode": "overlay",
             "size": 10,
             "solidity": 0.2
            },
            "type": "scatter"
           }
          ],
          "scatter3d": [
           {
            "line": {
             "colorbar": {
              "outlinewidth": 0,
              "ticks": ""
             }
            },
            "marker": {
             "colorbar": {
              "outlinewidth": 0,
              "ticks": ""
             }
            },
            "type": "scatter3d"
           }
          ],
          "scattercarpet": [
           {
            "marker": {
             "colorbar": {
              "outlinewidth": 0,
              "ticks": ""
             }
            },
            "type": "scattercarpet"
           }
          ],
          "scattergeo": [
           {
            "marker": {
             "colorbar": {
              "outlinewidth": 0,
              "ticks": ""
             }
            },
            "type": "scattergeo"
           }
          ],
          "scattergl": [
           {
            "marker": {
             "colorbar": {
              "outlinewidth": 0,
              "ticks": ""
             }
            },
            "type": "scattergl"
           }
          ],
          "scattermapbox": [
           {
            "marker": {
             "colorbar": {
              "outlinewidth": 0,
              "ticks": ""
             }
            },
            "type": "scattermapbox"
           }
          ],
          "scatterpolar": [
           {
            "marker": {
             "colorbar": {
              "outlinewidth": 0,
              "ticks": ""
             }
            },
            "type": "scatterpolar"
           }
          ],
          "scatterpolargl": [
           {
            "marker": {
             "colorbar": {
              "outlinewidth": 0,
              "ticks": ""
             }
            },
            "type": "scatterpolargl"
           }
          ],
          "scatterternary": [
           {
            "marker": {
             "colorbar": {
              "outlinewidth": 0,
              "ticks": ""
             }
            },
            "type": "scatterternary"
           }
          ],
          "surface": [
           {
            "colorbar": {
             "outlinewidth": 0,
             "ticks": ""
            },
            "colorscale": [
             [
              0,
              "#0d0887"
             ],
             [
              0.1111111111111111,
              "#46039f"
             ],
             [
              0.2222222222222222,
              "#7201a8"
             ],
             [
              0.3333333333333333,
              "#9c179e"
             ],
             [
              0.4444444444444444,
              "#bd3786"
             ],
             [
              0.5555555555555556,
              "#d8576b"
             ],
             [
              0.6666666666666666,
              "#ed7953"
             ],
             [
              0.7777777777777778,
              "#fb9f3a"
             ],
             [
              0.8888888888888888,
              "#fdca26"
             ],
             [
              1,
              "#f0f921"
             ]
            ],
            "type": "surface"
           }
          ],
          "table": [
           {
            "cells": {
             "fill": {
              "color": "#EBF0F8"
             },
             "line": {
              "color": "white"
             }
            },
            "header": {
             "fill": {
              "color": "#C8D4E3"
             },
             "line": {
              "color": "white"
             }
            },
            "type": "table"
           }
          ]
         },
         "layout": {
          "annotationdefaults": {
           "arrowcolor": "#2a3f5f",
           "arrowhead": 0,
           "arrowwidth": 1
          },
          "autotypenumbers": "strict",
          "coloraxis": {
           "colorbar": {
            "outlinewidth": 0,
            "ticks": ""
           }
          },
          "colorscale": {
           "diverging": [
            [
             0,
             "#8e0152"
            ],
            [
             0.1,
             "#c51b7d"
            ],
            [
             0.2,
             "#de77ae"
            ],
            [
             0.3,
             "#f1b6da"
            ],
            [
             0.4,
             "#fde0ef"
            ],
            [
             0.5,
             "#f7f7f7"
            ],
            [
             0.6,
             "#e6f5d0"
            ],
            [
             0.7,
             "#b8e186"
            ],
            [
             0.8,
             "#7fbc41"
            ],
            [
             0.9,
             "#4d9221"
            ],
            [
             1,
             "#276419"
            ]
           ],
           "sequential": [
            [
             0,
             "#0d0887"
            ],
            [
             0.1111111111111111,
             "#46039f"
            ],
            [
             0.2222222222222222,
             "#7201a8"
            ],
            [
             0.3333333333333333,
             "#9c179e"
            ],
            [
             0.4444444444444444,
             "#bd3786"
            ],
            [
             0.5555555555555556,
             "#d8576b"
            ],
            [
             0.6666666666666666,
             "#ed7953"
            ],
            [
             0.7777777777777778,
             "#fb9f3a"
            ],
            [
             0.8888888888888888,
             "#fdca26"
            ],
            [
             1,
             "#f0f921"
            ]
           ],
           "sequentialminus": [
            [
             0,
             "#0d0887"
            ],
            [
             0.1111111111111111,
             "#46039f"
            ],
            [
             0.2222222222222222,
             "#7201a8"
            ],
            [
             0.3333333333333333,
             "#9c179e"
            ],
            [
             0.4444444444444444,
             "#bd3786"
            ],
            [
             0.5555555555555556,
             "#d8576b"
            ],
            [
             0.6666666666666666,
             "#ed7953"
            ],
            [
             0.7777777777777778,
             "#fb9f3a"
            ],
            [
             0.8888888888888888,
             "#fdca26"
            ],
            [
             1,
             "#f0f921"
            ]
           ]
          },
          "colorway": [
           "#636efa",
           "#EF553B",
           "#00cc96",
           "#ab63fa",
           "#FFA15A",
           "#19d3f3",
           "#FF6692",
           "#B6E880",
           "#FF97FF",
           "#FECB52"
          ],
          "font": {
           "color": "#2a3f5f"
          },
          "geo": {
           "bgcolor": "white",
           "lakecolor": "white",
           "landcolor": "#E5ECF6",
           "showlakes": true,
           "showland": true,
           "subunitcolor": "white"
          },
          "hoverlabel": {
           "align": "left"
          },
          "hovermode": "closest",
          "mapbox": {
           "style": "light"
          },
          "paper_bgcolor": "white",
          "plot_bgcolor": "#E5ECF6",
          "polar": {
           "angularaxis": {
            "gridcolor": "white",
            "linecolor": "white",
            "ticks": ""
           },
           "bgcolor": "#E5ECF6",
           "radialaxis": {
            "gridcolor": "white",
            "linecolor": "white",
            "ticks": ""
           }
          },
          "scene": {
           "xaxis": {
            "backgroundcolor": "#E5ECF6",
            "gridcolor": "white",
            "gridwidth": 2,
            "linecolor": "white",
            "showbackground": true,
            "ticks": "",
            "zerolinecolor": "white"
           },
           "yaxis": {
            "backgroundcolor": "#E5ECF6",
            "gridcolor": "white",
            "gridwidth": 2,
            "linecolor": "white",
            "showbackground": true,
            "ticks": "",
            "zerolinecolor": "white"
           },
           "zaxis": {
            "backgroundcolor": "#E5ECF6",
            "gridcolor": "white",
            "gridwidth": 2,
            "linecolor": "white",
            "showbackground": true,
            "ticks": "",
            "zerolinecolor": "white"
           }
          },
          "shapedefaults": {
           "line": {
            "color": "#2a3f5f"
           }
          },
          "ternary": {
           "aaxis": {
            "gridcolor": "white",
            "linecolor": "white",
            "ticks": ""
           },
           "baxis": {
            "gridcolor": "white",
            "linecolor": "white",
            "ticks": ""
           },
           "bgcolor": "#E5ECF6",
           "caxis": {
            "gridcolor": "white",
            "linecolor": "white",
            "ticks": ""
           }
          },
          "title": {
           "x": 0.05
          },
          "xaxis": {
           "automargin": true,
           "gridcolor": "white",
           "linecolor": "white",
           "ticks": "",
           "title": {
            "standoff": 15
           },
           "zerolinecolor": "white",
           "zerolinewidth": 2
          },
          "yaxis": {
           "automargin": true,
           "gridcolor": "white",
           "linecolor": "white",
           "ticks": "",
           "title": {
            "standoff": 15
           },
           "zerolinecolor": "white",
           "zerolinewidth": 2
          }
         }
        },
        "title": {
         "text": "Percentage of Fully-Paid and Charged-Off Cases"
        },
        "width": 600
       }
      }
     },
     "metadata": {},
     "output_type": "display_data"
    }
   ],
   "source": [
    "loan_status_counts = df['loan_status'].value_counts()\n",
    "\n",
    "fully_paid_percent = round(loan_status_counts[0] / loan_status_counts.sum() * 100, 2)\n",
    "charged_off_percent = round(loan_status_counts[1] / loan_status_counts.sum() * 100, 2)\n",
    "\n",
    "status_labels = ['Fully-Paid', 'Charged-Off']\n",
    "values = [fully_paid_percent, charged_off_percent]\n",
    "import plotly.graph_objects as go\n",
    "\n",
    "fig = go.Figure(data=[go.Pie(labels=status_labels, values=values, hole=.3)])\n",
    "\n",
    "fig.update_layout(title='Percentage of Fully-Paid and Charged-Off Cases',\n",
    "                  font=dict(family=\"Arial\", size=12),\n",
    "                  margin=dict(l=20, r=20, t=40, b=20),\n",
    "                  paper_bgcolor='white', \n",
    "                  plot_bgcolor='white',  \n",
    "                  legend=dict(orientation=\"v\", yanchor=\"top\", xanchor=\"right\", x=1.02, y=1),  \n",
    "                  width=600,  \n",
    "                  height=400)  \n",
    "\n",
    "fig.update_traces(marker=dict(colors=['#c7e5ff', '#94ccff']))\n",
    "\n",
    "fig.show()"
   ]
  },
  {
   "cell_type": "code",
   "execution_count": null,
   "metadata": {},
   "outputs": [
    {
     "data": {
      "text/plain": [
       "0    161034\n",
       "1     54948\n",
       "Name: loan_status, dtype: int64"
      ]
     },
     "execution_count": 51,
     "metadata": {},
     "output_type": "execute_result"
    }
   ],
   "source": [
    "loan_status_counts = df['loan_status'].value_counts()\n",
    "loan_status_counts"
   ]
  },
  {
   "cell_type": "code",
   "execution_count": 20,
   "metadata": {},
   "outputs": [
    {
     "data": {
      "text/plain": [
       "loan_status\n",
       "0    161034\n",
       "1    161034\n",
       "dtype: int64"
      ]
     },
     "execution_count": 20,
     "metadata": {},
     "output_type": "execute_result"
    }
   ],
   "source": [
    "####UPSAMPLING TECHNIQUE \n",
    "from sklearn.utils import resample\n",
    "df_majority = df[df['loan_status']==0] \n",
    "df_minority = df[df['loan_status']==1] \n",
    "df_minority_upsampled = resample(df_minority,\n",
    " replace=True, # sample with replacement\n",
    " n_samples=len(df_majority), \n",
    " random_state=1234) # reproducible results\n",
    "# Combine majority class with upsampled minority class\n",
    "df_upsampled = pd.concat([df_majority, df_minority_upsampled])\n",
    "# Display new class counts\n",
    "df_upsampled.value_counts('loan_status')"
   ]
  },
  {
   "cell_type": "code",
   "execution_count": null,
   "metadata": {},
   "outputs": [
    {
     "data": {
      "application/vnd.plotly.v1+json": {
       "config": {
        "plotlyServerURL": "https://plot.ly"
       },
       "data": [
        {
         "hole": 0.3,
         "labels": [
          "Fully-Paid",
          "Charged-Off"
         ],
         "marker": {
          "colors": [
           "#c7e5ff",
           "#94ccff"
          ]
         },
         "type": "pie",
         "values": [
          50,
          50
         ]
        }
       ],
       "layout": {
        "font": {
         "family": "Arial",
         "size": 12
        },
        "height": 400,
        "legend": {
         "orientation": "v",
         "x": 1.02,
         "xanchor": "right",
         "y": 1,
         "yanchor": "top"
        },
        "margin": {
         "b": 20,
         "l": 20,
         "r": 20,
         "t": 40
        },
        "paper_bgcolor": "white",
        "plot_bgcolor": "white",
        "template": {
         "data": {
          "bar": [
           {
            "error_x": {
             "color": "#2a3f5f"
            },
            "error_y": {
             "color": "#2a3f5f"
            },
            "marker": {
             "line": {
              "color": "#E5ECF6",
              "width": 0.5
             },
             "pattern": {
              "fillmode": "overlay",
              "size": 10,
              "solidity": 0.2
             }
            },
            "type": "bar"
           }
          ],
          "barpolar": [
           {
            "marker": {
             "line": {
              "color": "#E5ECF6",
              "width": 0.5
             },
             "pattern": {
              "fillmode": "overlay",
              "size": 10,
              "solidity": 0.2
             }
            },
            "type": "barpolar"
           }
          ],
          "carpet": [
           {
            "aaxis": {
             "endlinecolor": "#2a3f5f",
             "gridcolor": "white",
             "linecolor": "white",
             "minorgridcolor": "white",
             "startlinecolor": "#2a3f5f"
            },
            "baxis": {
             "endlinecolor": "#2a3f5f",
             "gridcolor": "white",
             "linecolor": "white",
             "minorgridcolor": "white",
             "startlinecolor": "#2a3f5f"
            },
            "type": "carpet"
           }
          ],
          "choropleth": [
           {
            "colorbar": {
             "outlinewidth": 0,
             "ticks": ""
            },
            "type": "choropleth"
           }
          ],
          "contour": [
           {
            "colorbar": {
             "outlinewidth": 0,
             "ticks": ""
            },
            "colorscale": [
             [
              0,
              "#0d0887"
             ],
             [
              0.1111111111111111,
              "#46039f"
             ],
             [
              0.2222222222222222,
              "#7201a8"
             ],
             [
              0.3333333333333333,
              "#9c179e"
             ],
             [
              0.4444444444444444,
              "#bd3786"
             ],
             [
              0.5555555555555556,
              "#d8576b"
             ],
             [
              0.6666666666666666,
              "#ed7953"
             ],
             [
              0.7777777777777778,
              "#fb9f3a"
             ],
             [
              0.8888888888888888,
              "#fdca26"
             ],
             [
              1,
              "#f0f921"
             ]
            ],
            "type": "contour"
           }
          ],
          "contourcarpet": [
           {
            "colorbar": {
             "outlinewidth": 0,
             "ticks": ""
            },
            "type": "contourcarpet"
           }
          ],
          "heatmap": [
           {
            "colorbar": {
             "outlinewidth": 0,
             "ticks": ""
            },
            "colorscale": [
             [
              0,
              "#0d0887"
             ],
             [
              0.1111111111111111,
              "#46039f"
             ],
             [
              0.2222222222222222,
              "#7201a8"
             ],
             [
              0.3333333333333333,
              "#9c179e"
             ],
             [
              0.4444444444444444,
              "#bd3786"
             ],
             [
              0.5555555555555556,
              "#d8576b"
             ],
             [
              0.6666666666666666,
              "#ed7953"
             ],
             [
              0.7777777777777778,
              "#fb9f3a"
             ],
             [
              0.8888888888888888,
              "#fdca26"
             ],
             [
              1,
              "#f0f921"
             ]
            ],
            "type": "heatmap"
           }
          ],
          "heatmapgl": [
           {
            "colorbar": {
             "outlinewidth": 0,
             "ticks": ""
            },
            "colorscale": [
             [
              0,
              "#0d0887"
             ],
             [
              0.1111111111111111,
              "#46039f"
             ],
             [
              0.2222222222222222,
              "#7201a8"
             ],
             [
              0.3333333333333333,
              "#9c179e"
             ],
             [
              0.4444444444444444,
              "#bd3786"
             ],
             [
              0.5555555555555556,
              "#d8576b"
             ],
             [
              0.6666666666666666,
              "#ed7953"
             ],
             [
              0.7777777777777778,
              "#fb9f3a"
             ],
             [
              0.8888888888888888,
              "#fdca26"
             ],
             [
              1,
              "#f0f921"
             ]
            ],
            "type": "heatmapgl"
           }
          ],
          "histogram": [
           {
            "marker": {
             "pattern": {
              "fillmode": "overlay",
              "size": 10,
              "solidity": 0.2
             }
            },
            "type": "histogram"
           }
          ],
          "histogram2d": [
           {
            "colorbar": {
             "outlinewidth": 0,
             "ticks": ""
            },
            "colorscale": [
             [
              0,
              "#0d0887"
             ],
             [
              0.1111111111111111,
              "#46039f"
             ],
             [
              0.2222222222222222,
              "#7201a8"
             ],
             [
              0.3333333333333333,
              "#9c179e"
             ],
             [
              0.4444444444444444,
              "#bd3786"
             ],
             [
              0.5555555555555556,
              "#d8576b"
             ],
             [
              0.6666666666666666,
              "#ed7953"
             ],
             [
              0.7777777777777778,
              "#fb9f3a"
             ],
             [
              0.8888888888888888,
              "#fdca26"
             ],
             [
              1,
              "#f0f921"
             ]
            ],
            "type": "histogram2d"
           }
          ],
          "histogram2dcontour": [
           {
            "colorbar": {
             "outlinewidth": 0,
             "ticks": ""
            },
            "colorscale": [
             [
              0,
              "#0d0887"
             ],
             [
              0.1111111111111111,
              "#46039f"
             ],
             [
              0.2222222222222222,
              "#7201a8"
             ],
             [
              0.3333333333333333,
              "#9c179e"
             ],
             [
              0.4444444444444444,
              "#bd3786"
             ],
             [
              0.5555555555555556,
              "#d8576b"
             ],
             [
              0.6666666666666666,
              "#ed7953"
             ],
             [
              0.7777777777777778,
              "#fb9f3a"
             ],
             [
              0.8888888888888888,
              "#fdca26"
             ],
             [
              1,
              "#f0f921"
             ]
            ],
            "type": "histogram2dcontour"
           }
          ],
          "mesh3d": [
           {
            "colorbar": {
             "outlinewidth": 0,
             "ticks": ""
            },
            "type": "mesh3d"
           }
          ],
          "parcoords": [
           {
            "line": {
             "colorbar": {
              "outlinewidth": 0,
              "ticks": ""
             }
            },
            "type": "parcoords"
           }
          ],
          "pie": [
           {
            "automargin": true,
            "type": "pie"
           }
          ],
          "scatter": [
           {
            "fillpattern": {
             "fillmode": "overlay",
             "size": 10,
             "solidity": 0.2
            },
            "type": "scatter"
           }
          ],
          "scatter3d": [
           {
            "line": {
             "colorbar": {
              "outlinewidth": 0,
              "ticks": ""
             }
            },
            "marker": {
             "colorbar": {
              "outlinewidth": 0,
              "ticks": ""
             }
            },
            "type": "scatter3d"
           }
          ],
          "scattercarpet": [
           {
            "marker": {
             "colorbar": {
              "outlinewidth": 0,
              "ticks": ""
             }
            },
            "type": "scattercarpet"
           }
          ],
          "scattergeo": [
           {
            "marker": {
             "colorbar": {
              "outlinewidth": 0,
              "ticks": ""
             }
            },
            "type": "scattergeo"
           }
          ],
          "scattergl": [
           {
            "marker": {
             "colorbar": {
              "outlinewidth": 0,
              "ticks": ""
             }
            },
            "type": "scattergl"
           }
          ],
          "scattermapbox": [
           {
            "marker": {
             "colorbar": {
              "outlinewidth": 0,
              "ticks": ""
             }
            },
            "type": "scattermapbox"
           }
          ],
          "scatterpolar": [
           {
            "marker": {
             "colorbar": {
              "outlinewidth": 0,
              "ticks": ""
             }
            },
            "type": "scatterpolar"
           }
          ],
          "scatterpolargl": [
           {
            "marker": {
             "colorbar": {
              "outlinewidth": 0,
              "ticks": ""
             }
            },
            "type": "scatterpolargl"
           }
          ],
          "scatterternary": [
           {
            "marker": {
             "colorbar": {
              "outlinewidth": 0,
              "ticks": ""
             }
            },
            "type": "scatterternary"
           }
          ],
          "surface": [
           {
            "colorbar": {
             "outlinewidth": 0,
             "ticks": ""
            },
            "colorscale": [
             [
              0,
              "#0d0887"
             ],
             [
              0.1111111111111111,
              "#46039f"
             ],
             [
              0.2222222222222222,
              "#7201a8"
             ],
             [
              0.3333333333333333,
              "#9c179e"
             ],
             [
              0.4444444444444444,
              "#bd3786"
             ],
             [
              0.5555555555555556,
              "#d8576b"
             ],
             [
              0.6666666666666666,
              "#ed7953"
             ],
             [
              0.7777777777777778,
              "#fb9f3a"
             ],
             [
              0.8888888888888888,
              "#fdca26"
             ],
             [
              1,
              "#f0f921"
             ]
            ],
            "type": "surface"
           }
          ],
          "table": [
           {
            "cells": {
             "fill": {
              "color": "#EBF0F8"
             },
             "line": {
              "color": "white"
             }
            },
            "header": {
             "fill": {
              "color": "#C8D4E3"
             },
             "line": {
              "color": "white"
             }
            },
            "type": "table"
           }
          ]
         },
         "layout": {
          "annotationdefaults": {
           "arrowcolor": "#2a3f5f",
           "arrowhead": 0,
           "arrowwidth": 1
          },
          "autotypenumbers": "strict",
          "coloraxis": {
           "colorbar": {
            "outlinewidth": 0,
            "ticks": ""
           }
          },
          "colorscale": {
           "diverging": [
            [
             0,
             "#8e0152"
            ],
            [
             0.1,
             "#c51b7d"
            ],
            [
             0.2,
             "#de77ae"
            ],
            [
             0.3,
             "#f1b6da"
            ],
            [
             0.4,
             "#fde0ef"
            ],
            [
             0.5,
             "#f7f7f7"
            ],
            [
             0.6,
             "#e6f5d0"
            ],
            [
             0.7,
             "#b8e186"
            ],
            [
             0.8,
             "#7fbc41"
            ],
            [
             0.9,
             "#4d9221"
            ],
            [
             1,
             "#276419"
            ]
           ],
           "sequential": [
            [
             0,
             "#0d0887"
            ],
            [
             0.1111111111111111,
             "#46039f"
            ],
            [
             0.2222222222222222,
             "#7201a8"
            ],
            [
             0.3333333333333333,
             "#9c179e"
            ],
            [
             0.4444444444444444,
             "#bd3786"
            ],
            [
             0.5555555555555556,
             "#d8576b"
            ],
            [
             0.6666666666666666,
             "#ed7953"
            ],
            [
             0.7777777777777778,
             "#fb9f3a"
            ],
            [
             0.8888888888888888,
             "#fdca26"
            ],
            [
             1,
             "#f0f921"
            ]
           ],
           "sequentialminus": [
            [
             0,
             "#0d0887"
            ],
            [
             0.1111111111111111,
             "#46039f"
            ],
            [
             0.2222222222222222,
             "#7201a8"
            ],
            [
             0.3333333333333333,
             "#9c179e"
            ],
            [
             0.4444444444444444,
             "#bd3786"
            ],
            [
             0.5555555555555556,
             "#d8576b"
            ],
            [
             0.6666666666666666,
             "#ed7953"
            ],
            [
             0.7777777777777778,
             "#fb9f3a"
            ],
            [
             0.8888888888888888,
             "#fdca26"
            ],
            [
             1,
             "#f0f921"
            ]
           ]
          },
          "colorway": [
           "#636efa",
           "#EF553B",
           "#00cc96",
           "#ab63fa",
           "#FFA15A",
           "#19d3f3",
           "#FF6692",
           "#B6E880",
           "#FF97FF",
           "#FECB52"
          ],
          "font": {
           "color": "#2a3f5f"
          },
          "geo": {
           "bgcolor": "white",
           "lakecolor": "white",
           "landcolor": "#E5ECF6",
           "showlakes": true,
           "showland": true,
           "subunitcolor": "white"
          },
          "hoverlabel": {
           "align": "left"
          },
          "hovermode": "closest",
          "mapbox": {
           "style": "light"
          },
          "paper_bgcolor": "white",
          "plot_bgcolor": "#E5ECF6",
          "polar": {
           "angularaxis": {
            "gridcolor": "white",
            "linecolor": "white",
            "ticks": ""
           },
           "bgcolor": "#E5ECF6",
           "radialaxis": {
            "gridcolor": "white",
            "linecolor": "white",
            "ticks": ""
           }
          },
          "scene": {
           "xaxis": {
            "backgroundcolor": "#E5ECF6",
            "gridcolor": "white",
            "gridwidth": 2,
            "linecolor": "white",
            "showbackground": true,
            "ticks": "",
            "zerolinecolor": "white"
           },
           "yaxis": {
            "backgroundcolor": "#E5ECF6",
            "gridcolor": "white",
            "gridwidth": 2,
            "linecolor": "white",
            "showbackground": true,
            "ticks": "",
            "zerolinecolor": "white"
           },
           "zaxis": {
            "backgroundcolor": "#E5ECF6",
            "gridcolor": "white",
            "gridwidth": 2,
            "linecolor": "white",
            "showbackground": true,
            "ticks": "",
            "zerolinecolor": "white"
           }
          },
          "shapedefaults": {
           "line": {
            "color": "#2a3f5f"
           }
          },
          "ternary": {
           "aaxis": {
            "gridcolor": "white",
            "linecolor": "white",
            "ticks": ""
           },
           "baxis": {
            "gridcolor": "white",
            "linecolor": "white",
            "ticks": ""
           },
           "bgcolor": "#E5ECF6",
           "caxis": {
            "gridcolor": "white",
            "linecolor": "white",
            "ticks": ""
           }
          },
          "title": {
           "x": 0.05
          },
          "xaxis": {
           "automargin": true,
           "gridcolor": "white",
           "linecolor": "white",
           "ticks": "",
           "title": {
            "standoff": 15
           },
           "zerolinecolor": "white",
           "zerolinewidth": 2
          },
          "yaxis": {
           "automargin": true,
           "gridcolor": "white",
           "linecolor": "white",
           "ticks": "",
           "title": {
            "standoff": 15
           },
           "zerolinecolor": "white",
           "zerolinewidth": 2
          }
         }
        },
        "title": {
         "text": "Percentage of Fully-Paid and Charged-Off Cases"
        },
        "width": 600
       }
      }
     },
     "metadata": {},
     "output_type": "display_data"
    }
   ],
   "source": [
    "loan_status_counts = df_upsampled['loan_status'].value_counts()\n",
    "\n",
    "fully_paid_percent = round(loan_status_counts[0] / loan_status_counts.sum() * 100, 2)\n",
    "charged_off_percent = round(loan_status_counts[1] / loan_status_counts.sum() * 100, 2)\n",
    "\n",
    "status_labels = ['Fully-Paid', 'Charged-Off']\n",
    "values = [fully_paid_percent, charged_off_percent]\n",
    "import plotly.graph_objects as go\n",
    "\n",
    "fig = go.Figure(data=[go.Pie(labels=status_labels, values=values, hole=.3)])\n",
    "\n",
    "fig.update_layout(title='Percentage of Fully-Paid and Charged-Off Cases',\n",
    "                  font=dict(family=\"Arial\", size=12),\n",
    "                  margin=dict(l=20, r=20, t=40, b=20),\n",
    "                  paper_bgcolor='white', \n",
    "                  plot_bgcolor='white',  \n",
    "                  legend=dict(orientation=\"v\", yanchor=\"top\", xanchor=\"right\", x=1.02, y=1),  \n",
    "                  width=600,  \n",
    "                  height=400)  \n",
    "\n",
    "fig.update_traces(marker=dict(colors=['#c7e5ff', '#94ccff']))\n",
    "\n",
    "fig.show()"
   ]
  },
  {
   "cell_type": "code",
   "execution_count": 21,
   "metadata": {},
   "outputs": [],
   "source": [
    "features = df_upsampled.drop('loan_status', axis=1)\n",
    "target = df_upsampled.loan_status"
   ]
  },
  {
   "cell_type": "code",
   "execution_count": 22,
   "metadata": {},
   "outputs": [],
   "source": [
    "X_train, X_test, y_train, y_test = train_test_split(features, target, test_size=0.2, random_state=42)"
   ]
  },
  {
   "cell_type": "code",
   "execution_count": 29,
   "metadata": {},
   "outputs": [
    {
     "name": "stdout",
     "output_type": "stream",
     "text": [
      "Confusion matrix:\n",
      "        0       1\n",
      "0  128825       0\n",
      "1       0  128829 \n",
      "\n",
      "Classification report:\n",
      "              precision    recall  f1-score   support\n",
      "\n",
      "           0       1.00      1.00      1.00    128825\n",
      "           1       1.00      1.00      1.00    128829\n",
      "\n",
      "    accuracy                           1.00    257654\n",
      "   macro avg       1.00      1.00      1.00    257654\n",
      "weighted avg       1.00      1.00      1.00    257654\n",
      "\n",
      "Random Forest accuracy:  1.0\n"
     ]
    }
   ],
   "source": [
    "#TRAIN RANDOM FOREST MODEL\n",
    "RF_classifier = RandomForestClassifier()\n",
    "RF_classifier.fit(X_train, y_train.ravel())\n",
    "\n",
    "y_pred = RF_classifier.predict(X_train)\n",
    "print('Confusion matrix:')\n",
    "print(pd.DataFrame(confusion_matrix(y_train,y_pred)),'\\n')\n",
    "\n",
    "print('Classification report:')\n",
    "print(classification_report(y_train,y_pred))\n",
    "\n",
    "print('Random Forest accuracy: ', round(accuracy_score(y_train, y_pred),2))"
   ]
  },
  {
   "cell_type": "code",
   "execution_count": 30,
   "metadata": {},
   "outputs": [
    {
     "name": "stdout",
     "output_type": "stream",
     "text": [
      "[[28651  3558]\n",
      " [ 2176 30029]]\n",
      "              precision    recall  f1-score   support\n",
      "\n",
      "           0       0.93      0.89      0.91     32209\n",
      "           1       0.89      0.93      0.91     32205\n",
      "\n",
      "    accuracy                           0.91     64414\n",
      "   macro avg       0.91      0.91      0.91     64414\n",
      "weighted avg       0.91      0.91      0.91     64414\n",
      "\n",
      "Random Forest accuracy:  0.9109820846399851\n"
     ]
    }
   ],
   "source": [
    "#TEST RANDOM FOREST MODEL\n",
    "y_pred = RF_classifier.predict(X_test)\n",
    "print(confusion_matrix(y_test,y_pred))\n",
    "print(classification_report(y_test,y_pred))\n",
    "print('Random Forest accuracy: ', accuracy_score(y_test, y_pred))"
   ]
  },
  {
   "cell_type": "code",
   "execution_count": 31,
   "metadata": {},
   "outputs": [
    {
     "data": {
      "text/plain": [
       "0.9693219513568542"
      ]
     },
     "execution_count": 31,
     "metadata": {},
     "output_type": "execute_result"
    }
   ],
   "source": [
    "#ROC RANDOM FOREST\n",
    "y_pred_prob_test = RF_classifier.predict_proba(X_test)[:, 1]\n",
    "fpr, tpr, thres = roc_curve(y_test, y_pred_prob_test)\n",
    "roc_auc = auc(fpr, tpr)\n",
    "roc_auc"
   ]
  },
  {
   "cell_type": "code",
   "execution_count": 36,
   "metadata": {},
   "outputs": [
    {
     "name": "stdout",
     "output_type": "stream",
     "text": [
      "Requirement already satisfied: scikit-learn in d:\\python\\lib\\site-packages (1.2.0)\n",
      "Collecting scikit-learn\n",
      "  Downloading scikit_learn-1.4.1.post1-cp311-cp311-win_amd64.whl (10.6 MB)\n",
      "     --------------------------------------- 10.6/10.6 MB 10.5 MB/s eta 0:00:00\n",
      "Requirement already satisfied: numpy<2.0,>=1.19.5 in d:\\python\\lib\\site-packages (from scikit-learn) (1.23.5)\n",
      "Requirement already satisfied: scipy>=1.6.0 in d:\\python\\lib\\site-packages (from scikit-learn) (1.12.0)\n",
      "Requirement already satisfied: joblib>=1.2.0 in d:\\python\\lib\\site-packages (from scikit-learn) (1.2.0)\n",
      "Requirement already satisfied: threadpoolctl>=2.0.0 in d:\\python\\lib\\site-packages (from scikit-learn) (3.1.0)\n",
      "Installing collected packages: scikit-learn\n",
      "  Attempting uninstall: scikit-learn\n",
      "    Found existing installation: scikit-learn 1.2.0\n",
      "    Uninstalling scikit-learn-1.2.0:\n",
      "      Successfully uninstalled scikit-learn-1.2.0\n",
      "Note: you may need to restart the kernel to use updated packages.\n"
     ]
    },
    {
     "name": "stderr",
     "output_type": "stream",
     "text": [
      "ERROR: Could not install packages due to an OSError: [WinError 5] Access is denied: 'D:\\\\Python\\\\Lib\\\\site-packages\\\\~klearn\\\\.libs\\\\msvcp140.dll'\n",
      "Consider using the `--user` option or check the permissions.\n",
      "\n",
      "\n",
      "[notice] A new release of pip available: 22.3 -> 24.0\n",
      "[notice] To update, run: python.exe -m pip install --upgrade pip\n"
     ]
    }
   ],
   "source": [
    "pip install -U scikit-learn\n"
   ]
  },
  {
   "cell_type": "code",
   "execution_count": 26,
   "metadata": {},
   "outputs": [
    {
     "name": "stdout",
     "output_type": "stream",
     "text": [
      "Confusion matrix:\n",
      "       0      1\n",
      "0  85602  43223\n",
      "1  35067  93762 \n",
      "\n",
      "Classification report:\n",
      "              precision    recall  f1-score   support\n",
      "\n",
      "           0       0.71      0.66      0.69    128825\n",
      "           1       0.68      0.73      0.71    128829\n",
      "\n",
      "    accuracy                           0.70    257654\n",
      "   macro avg       0.70      0.70      0.70    257654\n",
      "weighted avg       0.70      0.70      0.70    257654\n",
      "\n",
      "XGB Classifier accuracy:  0.7\n"
     ]
    }
   ],
   "source": [
    "#TRAIN XGB CLASSIFER\n",
    "XGB_classifier = XGBClassifier()\n",
    "XGB_classifier .fit(X_train, y_train.ravel())\n",
    "\n",
    "y_pred = XGB_classifier.predict(X_train)\n",
    "print('Confusion matrix:')\n",
    "print(pd.DataFrame(confusion_matrix(y_train,y_pred)),'\\n')\n",
    "\n",
    "print('Classification report:')\n",
    "print(classification_report(y_train,y_pred))\n",
    "\n",
    "print('XGB Classifier accuracy: ', round(accuracy_score(y_train, y_pred),2))"
   ]
  },
  {
   "cell_type": "code",
   "execution_count": 27,
   "metadata": {},
   "outputs": [
    {
     "name": "stdout",
     "output_type": "stream",
     "text": [
      "[[20475 11734]\n",
      " [ 9515 22690]]\n",
      "              precision    recall  f1-score   support\n",
      "\n",
      "           0       0.68      0.64      0.66     32209\n",
      "           1       0.66      0.70      0.68     32205\n",
      "\n",
      "    accuracy                           0.67     64414\n",
      "   macro avg       0.67      0.67      0.67     64414\n",
      "weighted avg       0.67      0.67      0.67     64414\n",
      "\n",
      "XGBoost accuracy:  0.6701182972645698\n"
     ]
    }
   ],
   "source": [
    "#TEST XGB CLASSIFIER\n",
    "XGB_classifier = XGBClassifier()\n",
    "XGB_classifier.fit(X_train, y_train.ravel())\n",
    "\n",
    "y_pred = XGB_classifier.predict(X_test)\n",
    "print(confusion_matrix(y_test,y_pred))\n",
    "print(classification_report(y_test,y_pred))\n",
    "print('XGBoost accuracy: ', accuracy_score(y_test, y_pred))"
   ]
  },
  {
   "cell_type": "code",
   "execution_count": 28,
   "metadata": {},
   "outputs": [
    {
     "data": {
      "text/plain": [
       "0.735975205199078"
      ]
     },
     "execution_count": 28,
     "metadata": {},
     "output_type": "execute_result"
    }
   ],
   "source": [
    "#ROC XGB CLASSIFIER\n",
    "y_pred_prob_test = XGB_classifier.predict_proba(X_test)[:, 1]\n",
    "fpr, tpr, thres = roc_curve(y_test, y_pred_prob_test)\n",
    "roc_auc = auc(fpr, tpr)\n",
    "roc_auc "
   ]
  },
  {
   "cell_type": "code",
   "execution_count": 30,
   "metadata": {},
   "outputs": [
    {
     "name": "stdout",
     "output_type": "stream",
     "text": [
      "Confusion matrix:\n",
      "       0      1\n",
      "0  84329  44496\n",
      "1  50481  78348 \n",
      "\n",
      "Classification report:\n",
      "              precision    recall  f1-score   support\n",
      "\n",
      "           0       0.63      0.65      0.64    128825\n",
      "           1       0.64      0.61      0.62    128829\n",
      "\n",
      "    accuracy                           0.63    257654\n",
      "   macro avg       0.63      0.63      0.63    257654\n",
      "weighted avg       0.63      0.63      0.63    257654\n",
      "\n",
      "Logistic Regression accuracy:  0.6314\n"
     ]
    }
   ],
   "source": [
    "#TRAIN LOGISTIC REGRESSION MODEL\n",
    "LR_classifier = LogisticRegression(multi_class='multinomial',random_state=n_state)\n",
    "LR_classifier.fit(X_train, y_train.ravel())\n",
    "y_pred = LR_classifier.predict(X_train)\n",
    "print('Confusion matrix:')\n",
    "print(pd.DataFrame(confusion_matrix(y_train,y_pred)),'\\n')\n",
    "print('Classification report:')\n",
    "print(classification_report(y_train,y_pred))\n",
    "print('Logistic Regression accuracy: ', round(accuracy_score(y_train, y_pred),4))\n"
   ]
  },
  {
   "cell_type": "code",
   "execution_count": 31,
   "metadata": {},
   "outputs": [
    {
     "name": "stdout",
     "output_type": "stream",
     "text": [
      "Confusion matrix:\n",
      "       0      1\n",
      "0  20912  11297\n",
      "1  12641  19564 \n",
      "\n",
      "Classification report:\n",
      "              precision    recall  f1-score   support\n",
      "\n",
      "           0       0.62      0.65      0.64     32209\n",
      "           1       0.63      0.61      0.62     32205\n",
      "\n",
      "    accuracy                           0.63     64414\n",
      "   macro avg       0.63      0.63      0.63     64414\n",
      "weighted avg       0.63      0.63      0.63     64414\n",
      "\n",
      "Logistic Regression accuracy:  0.6284\n"
     ]
    }
   ],
   "source": [
    "#TEST LOGISTIC REGRESSION MODEL\n",
    "y_pred = LR_classifier.predict(X_test)\n",
    "print('Confusion matrix:')\n",
    "print(pd.DataFrame(confusion_matrix(y_test,y_pred)),'\\n')\n",
    "print('Classification report:')\n",
    "print(classification_report(y_test,y_pred))\n",
    "print('Logistic Regression accuracy: ', round(accuracy_score(y_test, y_pred),4))\n"
   ]
  },
  {
   "cell_type": "code",
   "execution_count": 32,
   "metadata": {},
   "outputs": [
    {
     "data": {
      "text/plain": [
       "0.6807513200408126"
      ]
     },
     "execution_count": 32,
     "metadata": {},
     "output_type": "execute_result"
    }
   ],
   "source": [
    "# ROC-LOGISTIC REGRESSION MODEL\n",
    "y_pred_prob_test = LR_classifier.predict_proba(X_test)[:, 1]\n",
    "fpr, tpr, thres = roc_curve(y_test, y_pred_prob_test)\n",
    "roc_auc = auc(fpr, tpr)\n",
    "roc_auc "
   ]
  },
  {
   "cell_type": "code",
   "execution_count": 33,
   "metadata": {},
   "outputs": [
    {
     "name": "stdout",
     "output_type": "stream",
     "text": [
      "Confusion matrix:\n",
      "        0       1\n",
      "0  128825       0\n",
      "1       0  128829 \n",
      "\n",
      "Classification report:\n",
      "              precision    recall  f1-score   support\n",
      "\n",
      "           0       1.00      1.00      1.00    128825\n",
      "           1       1.00      1.00      1.00    128829\n",
      "\n",
      "    accuracy                           1.00    257654\n",
      "   macro avg       1.00      1.00      1.00    257654\n",
      "weighted avg       1.00      1.00      1.00    257654\n",
      "\n",
      "Decision Tree accuracy:  1.0\n"
     ]
    }
   ],
   "source": [
    "#TRAIN DECISION TREE MODEL\n",
    "DT_classifier = DecisionTreeClassifier()\n",
    "DT_classifier.fit(X_train, y_train.ravel())\n",
    "\n",
    "y_pred = DT_classifier.predict(X_train)\n",
    "print('Confusion matrix:')\n",
    "print(pd.DataFrame(confusion_matrix(y_train,y_pred)),'\\n')\n",
    "\n",
    "print('Classification report:')\n",
    "print(classification_report(y_train,y_pred))\n",
    "\n",
    "print('Decision Tree accuracy: ', round(accuracy_score(y_train, y_pred),2))"
   ]
  },
  {
   "cell_type": "code",
   "execution_count": 34,
   "metadata": {},
   "outputs": [
    {
     "name": "stdout",
     "output_type": "stream",
     "text": [
      "Confusion matrix:\n",
      "       0      1\n",
      "0  23761   8448\n",
      "1   1967  30238 \n",
      "\n",
      "Classification report:\n",
      "              precision    recall  f1-score   support\n",
      "\n",
      "           0       0.92      0.74      0.82     32209\n",
      "           1       0.78      0.94      0.85     32205\n",
      "\n",
      "    accuracy                           0.84     64414\n",
      "   macro avg       0.85      0.84      0.84     64414\n",
      "weighted avg       0.85      0.84      0.84     64414\n",
      "\n",
      "Decision Tree accuracy:  0.84\n"
     ]
    }
   ],
   "source": [
    "#TEST DECISION TREE MODEL\n",
    "y_pred = DT_classifier.predict(X_test)\n",
    "print('Confusion matrix:')\n",
    "print(pd.DataFrame(confusion_matrix(y_test,y_pred)),'\\n')\n",
    "\n",
    "print('Classification report:')\n",
    "print(classification_report(y_test,y_pred))\n",
    "\n",
    "print('Decision Tree accuracy: ', round(accuracy_score(y_test, y_pred),2))"
   ]
  },
  {
   "cell_type": "code",
   "execution_count": 35,
   "metadata": {},
   "outputs": [
    {
     "data": {
      "text/plain": [
       "0.8383177945622378"
      ]
     },
     "execution_count": 35,
     "metadata": {},
     "output_type": "execute_result"
    }
   ],
   "source": [
    "#ROC - DECISSION TREE\n",
    "y_pred_prob_test = DT_classifier.predict_proba(X_test)[:, 1]\n",
    "fpr, tpr, thres = roc_curve(y_test, y_pred_prob_test)\n",
    "roc_auc = auc(fpr, tpr)\n",
    "roc_auc "
   ]
  },
  {
   "cell_type": "code",
   "execution_count": 36,
   "metadata": {},
   "outputs": [
    {
     "name": "stdout",
     "output_type": "stream",
     "text": [
      "Confusion matrix:\n",
      "       0      1\n",
      "0  77615  51210\n",
      "1  41107  87722 \n",
      "\n",
      "Classification report:\n",
      "              precision    recall  f1-score   support\n",
      "\n",
      "           0       0.65      0.60      0.63    128825\n",
      "           1       0.63      0.68      0.66    128829\n",
      "\n",
      "    accuracy                           0.64    257654\n",
      "   macro avg       0.64      0.64      0.64    257654\n",
      "weighted avg       0.64      0.64      0.64    257654\n",
      "\n",
      "ADA Boost accuracy: 0.64\n"
     ]
    }
   ],
   "source": [
    "#TRAIN ADA BOOST\n",
    "ada_classifier = AdaBoostClassifier()\n",
    "ada_classifier.fit(X_train, y_train.ravel())\n",
    "y_pred = ada_classifier.predict(X_train)\n",
    "print('Confusion matrix:')\n",
    "print(pd.DataFrame(confusion_matrix(y_train, y_pred)), '\\n')\n",
    "print('Classification report:')\n",
    "print(classification_report(y_train, y_pred))\n",
    "print('ADA Boost accuracy:', round(accuracy_score(y_train, y_pred), 2))"
   ]
  },
  {
   "cell_type": "code",
   "execution_count": 37,
   "metadata": {},
   "outputs": [
    {
     "name": "stdout",
     "output_type": "stream",
     "text": [
      "[[19298 12911]\n",
      " [10252 21953]]\n",
      "              precision    recall  f1-score   support\n",
      "\n",
      "           0       0.65      0.60      0.62     32209\n",
      "           1       0.63      0.68      0.65     32205\n",
      "\n",
      "    accuracy                           0.64     64414\n",
      "   macro avg       0.64      0.64      0.64     64414\n",
      "weighted avg       0.64      0.64      0.64     64414\n",
      "\n",
      "ADABoost accuracy:  0.6404042599434906\n"
     ]
    }
   ],
   "source": [
    "#TEST ADA BOOST\n",
    "y_pred = ada_classifier.predict(X_test)\n",
    "print(confusion_matrix(y_test,y_pred))\n",
    "print(classification_report(y_test,y_pred))\n",
    "print('ADABoost accuracy: ', accuracy_score(y_test, y_pred))"
   ]
  },
  {
   "cell_type": "code",
   "execution_count": 38,
   "metadata": {},
   "outputs": [
    {
     "data": {
      "text/plain": [
       "0.6943534428861173"
      ]
     },
     "execution_count": 38,
     "metadata": {},
     "output_type": "execute_result"
    }
   ],
   "source": [
    "#ROC ADA\n",
    "y_pred_prob_test = ada_classifier.predict_proba(X_test)[:, 1]\n",
    "fpr, tpr, thres = roc_curve(y_test, y_pred_prob_test)\n",
    "roc_auc = auc(fpr, tpr)\n",
    "roc_auc "
   ]
  },
  {
   "cell_type": "code",
   "execution_count": 39,
   "metadata": {},
   "outputs": [
    {
     "name": "stdout",
     "output_type": "stream",
     "text": [
      "[LightGBM] [Info] Number of positive: 128829, number of negative: 128825\n",
      "[LightGBM] [Info] Auto-choosing row-wise multi-threading, the overhead of testing was 0.050430 seconds.\n",
      "You can set `force_row_wise=true` to remove the overhead.\n",
      "And if memory is not enough, you can set `force_col_wise=true`.\n",
      "[LightGBM] [Info] Total Bins 1561\n",
      "[LightGBM] [Info] Number of data points in the train set: 257654, number of used features: 21\n",
      "[LightGBM] [Info] [binary:BoostFromScore]: pavg=0.500008 -> initscore=0.000031\n",
      "[LightGBM] [Info] Start training from score 0.000031\n",
      "Confusion matrix:\n",
      "       0      1\n",
      "0  81468  47357\n",
      "1  39007  89822 \n",
      "\n",
      "Classification report:\n",
      "              precision    recall  f1-score   support\n",
      "\n",
      "           0       0.68      0.63      0.65    128825\n",
      "           1       0.65      0.70      0.68    128829\n",
      "\n",
      "    accuracy                           0.66    257654\n",
      "   macro avg       0.67      0.66      0.66    257654\n",
      "weighted avg       0.67      0.66      0.66    257654\n",
      "\n",
      "Light GBM accuracy: 0.66\n"
     ]
    }
   ],
   "source": [
    "#TRAIN LIGHT GBM\n",
    "import lightgbm as lgb\n",
    "lgbm = lgb.LGBMClassifier()\n",
    "lgbm.fit(X_train, y_train.ravel())\n",
    "y_pred = lgbm.predict(X_train)\n",
    "print('Confusion matrix:')\n",
    "print(pd.DataFrame(confusion_matrix(y_train, y_pred)), '\\n')\n",
    "print('Classification report:')\n",
    "print(classification_report(y_train, y_pred))\n",
    "print('Light GBM accuracy:', round(accuracy_score(y_train, y_pred), 2))"
   ]
  },
  {
   "cell_type": "code",
   "execution_count": 40,
   "metadata": {},
   "outputs": [
    {
     "name": "stdout",
     "output_type": "stream",
     "text": [
      "[[19995 12214]\n",
      " [10084 22121]]\n",
      "              precision    recall  f1-score   support\n",
      "\n",
      "           0       0.66      0.62      0.64     32209\n",
      "           1       0.64      0.69      0.66     32205\n",
      "\n",
      "    accuracy                           0.65     64414\n",
      "   macro avg       0.65      0.65      0.65     64414\n",
      "weighted avg       0.65      0.65      0.65     64414\n",
      "\n",
      "LightGBM accuracy:  0.6538330176669668\n"
     ]
    }
   ],
   "source": [
    "#TEST LIGHT GBM \n",
    "y_pred = lgbm.predict(X_test)\n",
    "print(confusion_matrix(y_test,y_pred))\n",
    "print(classification_report(y_test,y_pred))\n",
    "print('LightGBM accuracy: ', accuracy_score(y_test, y_pred))"
   ]
  },
  {
   "cell_type": "code",
   "execution_count": 41,
   "metadata": {},
   "outputs": [
    {
     "data": {
      "text/plain": [
       "0.7147036653929015"
      ]
     },
     "execution_count": 41,
     "metadata": {},
     "output_type": "execute_result"
    }
   ],
   "source": [
    "#ROC LIGHT GBM\n",
    "y_pred_prob_test = lgbm.predict_proba(X_test)[:, 1]\n",
    "fpr, tpr, thres = roc_curve(y_test, y_pred_prob_test)\n",
    "roc_auc = auc(fpr, tpr)\n",
    "roc_auc "
   ]
  },
  {
   "cell_type": "code",
   "execution_count": null,
   "metadata": {},
   "outputs": [],
   "source": [
    "from sklearn import model_selection\n",
    "from sklearn.ensemble import RandomForestClassifier\n",
    "from sklearn.metrics import confusion_matrix,classification_report,accuracy_score,roc_auc_score\n",
    "from sklearn.preprocessing import RobustScaler,MinMaxScaler,StandardScaler"
   ]
  },
  {
   "cell_type": "code",
   "execution_count": null,
   "metadata": {},
   "outputs": [],
   "source": [
    "roc_RF = [] \n",
    "acc_RF=[]\n",
    "kf=model_selection.StratifiedKFold(n_splits=5)\n",
    "for fold , (trn_,val_) in enumerate(kf.split(X=features,y=target)):\n",
    "    \n",
    "    clf=RandomForestClassifier(n_estimators=200,criterion=\"entropy\")\n",
    "    clf.fit(X_train,y_train)\n",
    "    y_pred=clf.predict(X_test)\n",
    "    print(f\"The fold is : {fold} : \")\n",
    "    print(classification_report(y_test,y_pred))\n",
    "    roc=roc_auc_score(y_test,y_pred)\n",
    "    acc=accuracy_score(y_test, y_pred)\n",
    "    acc_RF.append(acc)\n",
    "    roc_RF.append(roc)\n",
    "    print(f\"The accuracy for {fold+1} : {acc}\")\n",
    "    print(f\"The AUC for {fold+1} : {roc}\")\n",
    "\n",
    "mean_acc = sum(acc_RF) / len(acc_RF)\n",
    "mean_roc_auc = sum(roc_RF) / len(roc_RF)\n",
    "\n",
    "print(\"Mean accuracy across folds:\", mean_acc)\n",
    "print(\"Mean ROC AUC across folds:\", mean_roc_auc)\n"
   ]
  },
  {
   "cell_type": "code",
   "execution_count": null,
   "metadata": {},
   "outputs": [],
   "source": [
    "roc_XGB = [] \n",
    "acc_XGB=[]\n",
    "kf=model_selection.StratifiedKFold(n_splits=5)\n",
    "for fold , (trn_,val_) in enumerate(kf.split(X=features,y=target)):\n",
    "    \n",
    "    clf=XGBClassifier(n_estimators=200)\n",
    "    clf.fit(X_train,y_train)\n",
    "    y_pred=clf.predict(X_test)\n",
    "    print(f\"The fold is : {fold} : \")\n",
    "    print(classification_report(y_test,y_pred))\n",
    "    roc=roc_auc_score(y_test,y_pred)\n",
    "    acc=accuracy_score(y_test, y_pred)\n",
    "    acc_XGB.append(acc)\n",
    "    roc_XGB.append(roc)\n",
    "    print(f\"The accuracy for {fold+1} : {acc}\")\n",
    "    print(f\"The AUC for {fold+1} : {roc}\")\n",
    "\n",
    "mean_acc_1 = sum(acc_XGB) / len(acc_XGB)\n",
    "mean_roc_auc_1 = sum(roc_XGB) / len(roc_XGB)\n",
    "\n",
    "print(\"Mean accuracy across folds:\", mean_acc_1)\n",
    "print(\"Mean ROC AUC across folds:\", mean_roc_auc_1)\n"
   ]
  },
  {
   "cell_type": "code",
   "execution_count": null,
   "metadata": {},
   "outputs": [],
   "source": [
    "roc_LR = [] \n",
    "acc_LR=[]\n",
    "kf=model_selection.StratifiedKFold(n_splits=5)\n",
    "for fold , (trn_,val_) in enumerate(kf.split(X=features,y=target)):\n",
    "    \n",
    "    clf=LogisticRegression(multi_class='multinomial')\n",
    "    clf.fit(X_train,y_train)\n",
    "    y_pred=clf.predict(X_test)\n",
    "    print(f\"The fold is : {fold} : \")\n",
    "    print(classification_report(y_test,y_pred))\n",
    "    roc=roc_auc_score(y_test,y_pred)\n",
    "    acc=accuracy_score(y_test, y_pred)\n",
    "    acc_LR.append(acc)\n",
    "    roc_LR.append(roc)\n",
    "    print(f\"The accuracy for {fold+1} : {acc}\")\n",
    "    print(f\"The AUC for {fold+1} : {roc}\")\n",
    "\n",
    "mean_acc_2 = sum(acc_LR) / len(acc_LR)\n",
    "mean_roc_auc_2 = sum(roc_LR) / len(roc_LR)\n",
    "\n",
    "print(\"Mean accuracy across folds:\", mean_acc_2)\n",
    "print(\"Mean ROC AUC across folds:\", mean_roc_auc_2)\n"
   ]
  },
  {
   "cell_type": "code",
   "execution_count": null,
   "metadata": {},
   "outputs": [],
   "source": [
    "roc_DT = [] \n",
    "acc_DT=[]\n",
    "kf=model_selection.StratifiedKFold(n_splits=5)\n",
    "for fold , (trn_,val_) in enumerate(kf.split(X=features,y=target)):\n",
    "    \n",
    "    clf=DecisionTreeClassifier()\n",
    "    clf.fit(X_train,y_train)\n",
    "    y_pred=clf.predict(X_test)\n",
    "    print(f\"The fold is : {fold} : \")\n",
    "    print(classification_report(y_test,y_pred))\n",
    "    roc=roc_auc_score(y_test,y_pred)\n",
    "    acc=accuracy_score(y_test, y_pred)\n",
    "    acc_DT.append(acc)\n",
    "    roc_DT.append(roc)\n",
    "    print(f\"The accuracy for {fold+1} : {acc}\")\n",
    "    print(f\"The AUC for {fold+1} : {roc}\")\n",
    "\n",
    "mean_acc_3 = sum(acc_DT) / len(acc_DT)\n",
    "mean_roc_auc_3 = sum(roc_DT) / len(roc_DT)\n",
    "\n",
    "print(\"Mean accuracy across folds:\", mean_acc_3)\n",
    "print(\"Mean ROC AUC across folds:\", mean_roc_auc_3)\n"
   ]
  },
  {
   "cell_type": "code",
   "execution_count": null,
   "metadata": {},
   "outputs": [],
   "source": [
    "roc_ADA = [] \n",
    "acc_ADA=[]\n",
    "kf=model_selection.StratifiedKFold(n_splits=5)\n",
    "for fold , (trn_,val_) in enumerate(kf.split(X=features,y=target)):\n",
    "    \n",
    "    clf=AdaBoostClassifier()\n",
    "    clf.fit(X_train,y_train)\n",
    "    y_pred=clf.predict(X_test)\n",
    "    print(f\"The fold is : {fold} : \")\n",
    "    print(classification_report(y_test,y_pred))\n",
    "    roc=roc_auc_score(y_test,y_pred)\n",
    "    acc=accuracy_score(y_test, y_pred)\n",
    "    acc_ADA.append(acc)\n",
    "    roc_ADA.append(roc)\n",
    "    print(f\"The accuracy for {fold+1} : {acc}\")\n",
    "    print(f\"The AUC for {fold+1} : {roc}\")\n",
    "\n",
    "mean_acc_4 = sum(acc_ADA) / len(acc_ADA)\n",
    "mean_roc_auc_4 = sum(roc_ADA) / len(roc_ADA)\n",
    "\n",
    "print(\"Mean accuracy across folds:\", mean_acc_4)\n",
    "print(\"Mean ROC AUC across folds:\", mean_roc_auc_4)\n"
   ]
  },
  {
   "cell_type": "code",
   "execution_count": null,
   "metadata": {},
   "outputs": [],
   "source": [
    "roc_LGBM = [] \n",
    "acc_LGBM=[]\n",
    "kf=model_selection.StratifiedKFold(n_splits=5)\n",
    "for fold , (trn_,val_) in enumerate(kf.split(X=features,y=target)):\n",
    "    \n",
    "    clf=lgb.LGBMClassifier()\n",
    "    clf.fit(X_train,y_train)\n",
    "    y_pred=clf.predict(X_test)\n",
    "    print(f\"The fold is : {fold} : \")\n",
    "    print(classification_report(y_test,y_pred))\n",
    "    roc=roc_auc_score(y_test,y_pred)\n",
    "    acc=accuracy_score(y_test, y_pred)\n",
    "    acc_LGBM.append(acc)\n",
    "    roc_LGBM.append(roc)\n",
    "    print(f\"The accuracy for {fold+1} : {acc}\")\n",
    "    print(f\"The AUC for {fold+1} : {roc}\")\n",
    "\n",
    "mean_acc_5 = sum(acc_LGBM) / len(acc_LGBM)\n",
    "mean_roc_auc_5 = sum(roc_LGBM) / len(roc_LGBM)\n",
    "\n",
    "print(\"Mean accuracy across folds:\", mean_acc_5)\n",
    "print(\"Mean ROC AUC across folds:\", mean_roc_auc_5)"
   ]
  },
  {
   "cell_type": "code",
   "execution_count": 96,
   "metadata": {},
   "outputs": [
    {
     "data": {
      "application/vnd.plotly.v1+json": {
       "config": {
        "plotlyServerURL": "https://plot.ly"
       },
       "data": [
        {
         "marker": {
          "color": "#94ccff"
         },
         "name": "ROC AUC",
         "type": "bar",
         "x": [
          "Random Forest",
          "Decision Tree",
          "XGBoost",
          "Light GBM",
          "AdaBoost",
          "Logistic Regression"
         ],
         "y": [
          0.909,
          0.839,
          0.688,
          0.654,
          0.64,
          0.628
         ]
        }
       ],
       "layout": {
        "annotations": [
         {
          "font": {
           "color": "black"
          },
          "showarrow": false,
          "text": "0.909",
          "x": "Random Forest",
          "y": 0.909,
          "yshift": 10
         },
         {
          "font": {
           "color": "black"
          },
          "showarrow": false,
          "text": "0.839",
          "x": "Decision Tree",
          "y": 0.839,
          "yshift": 10
         },
         {
          "font": {
           "color": "black"
          },
          "showarrow": false,
          "text": "0.688",
          "x": "XGBoost",
          "y": 0.688,
          "yshift": 10
         },
         {
          "font": {
           "color": "black"
          },
          "showarrow": false,
          "text": "0.654",
          "x": "Light GBM",
          "y": 0.654,
          "yshift": 10
         },
         {
          "font": {
           "color": "black"
          },
          "showarrow": false,
          "text": "0.64",
          "x": "AdaBoost",
          "y": 0.64,
          "yshift": 10
         },
         {
          "font": {
           "color": "black"
          },
          "showarrow": false,
          "text": "0.628",
          "x": "Logistic Regression",
          "y": 0.628,
          "yshift": 10
         }
        ],
        "barmode": "group",
        "template": {
         "data": {
          "bar": [
           {
            "error_x": {
             "color": "#2a3f5f"
            },
            "error_y": {
             "color": "#2a3f5f"
            },
            "marker": {
             "line": {
              "color": "#E5ECF6",
              "width": 0.5
             },
             "pattern": {
              "fillmode": "overlay",
              "size": 10,
              "solidity": 0.2
             }
            },
            "type": "bar"
           }
          ],
          "barpolar": [
           {
            "marker": {
             "line": {
              "color": "#E5ECF6",
              "width": 0.5
             },
             "pattern": {
              "fillmode": "overlay",
              "size": 10,
              "solidity": 0.2
             }
            },
            "type": "barpolar"
           }
          ],
          "carpet": [
           {
            "aaxis": {
             "endlinecolor": "#2a3f5f",
             "gridcolor": "white",
             "linecolor": "white",
             "minorgridcolor": "white",
             "startlinecolor": "#2a3f5f"
            },
            "baxis": {
             "endlinecolor": "#2a3f5f",
             "gridcolor": "white",
             "linecolor": "white",
             "minorgridcolor": "white",
             "startlinecolor": "#2a3f5f"
            },
            "type": "carpet"
           }
          ],
          "choropleth": [
           {
            "colorbar": {
             "outlinewidth": 0,
             "ticks": ""
            },
            "type": "choropleth"
           }
          ],
          "contour": [
           {
            "colorbar": {
             "outlinewidth": 0,
             "ticks": ""
            },
            "colorscale": [
             [
              0,
              "#0d0887"
             ],
             [
              0.1111111111111111,
              "#46039f"
             ],
             [
              0.2222222222222222,
              "#7201a8"
             ],
             [
              0.3333333333333333,
              "#9c179e"
             ],
             [
              0.4444444444444444,
              "#bd3786"
             ],
             [
              0.5555555555555556,
              "#d8576b"
             ],
             [
              0.6666666666666666,
              "#ed7953"
             ],
             [
              0.7777777777777778,
              "#fb9f3a"
             ],
             [
              0.8888888888888888,
              "#fdca26"
             ],
             [
              1,
              "#f0f921"
             ]
            ],
            "type": "contour"
           }
          ],
          "contourcarpet": [
           {
            "colorbar": {
             "outlinewidth": 0,
             "ticks": ""
            },
            "type": "contourcarpet"
           }
          ],
          "heatmap": [
           {
            "colorbar": {
             "outlinewidth": 0,
             "ticks": ""
            },
            "colorscale": [
             [
              0,
              "#0d0887"
             ],
             [
              0.1111111111111111,
              "#46039f"
             ],
             [
              0.2222222222222222,
              "#7201a8"
             ],
             [
              0.3333333333333333,
              "#9c179e"
             ],
             [
              0.4444444444444444,
              "#bd3786"
             ],
             [
              0.5555555555555556,
              "#d8576b"
             ],
             [
              0.6666666666666666,
              "#ed7953"
             ],
             [
              0.7777777777777778,
              "#fb9f3a"
             ],
             [
              0.8888888888888888,
              "#fdca26"
             ],
             [
              1,
              "#f0f921"
             ]
            ],
            "type": "heatmap"
           }
          ],
          "heatmapgl": [
           {
            "colorbar": {
             "outlinewidth": 0,
             "ticks": ""
            },
            "colorscale": [
             [
              0,
              "#0d0887"
             ],
             [
              0.1111111111111111,
              "#46039f"
             ],
             [
              0.2222222222222222,
              "#7201a8"
             ],
             [
              0.3333333333333333,
              "#9c179e"
             ],
             [
              0.4444444444444444,
              "#bd3786"
             ],
             [
              0.5555555555555556,
              "#d8576b"
             ],
             [
              0.6666666666666666,
              "#ed7953"
             ],
             [
              0.7777777777777778,
              "#fb9f3a"
             ],
             [
              0.8888888888888888,
              "#fdca26"
             ],
             [
              1,
              "#f0f921"
             ]
            ],
            "type": "heatmapgl"
           }
          ],
          "histogram": [
           {
            "marker": {
             "pattern": {
              "fillmode": "overlay",
              "size": 10,
              "solidity": 0.2
             }
            },
            "type": "histogram"
           }
          ],
          "histogram2d": [
           {
            "colorbar": {
             "outlinewidth": 0,
             "ticks": ""
            },
            "colorscale": [
             [
              0,
              "#0d0887"
             ],
             [
              0.1111111111111111,
              "#46039f"
             ],
             [
              0.2222222222222222,
              "#7201a8"
             ],
             [
              0.3333333333333333,
              "#9c179e"
             ],
             [
              0.4444444444444444,
              "#bd3786"
             ],
             [
              0.5555555555555556,
              "#d8576b"
             ],
             [
              0.6666666666666666,
              "#ed7953"
             ],
             [
              0.7777777777777778,
              "#fb9f3a"
             ],
             [
              0.8888888888888888,
              "#fdca26"
             ],
             [
              1,
              "#f0f921"
             ]
            ],
            "type": "histogram2d"
           }
          ],
          "histogram2dcontour": [
           {
            "colorbar": {
             "outlinewidth": 0,
             "ticks": ""
            },
            "colorscale": [
             [
              0,
              "#0d0887"
             ],
             [
              0.1111111111111111,
              "#46039f"
             ],
             [
              0.2222222222222222,
              "#7201a8"
             ],
             [
              0.3333333333333333,
              "#9c179e"
             ],
             [
              0.4444444444444444,
              "#bd3786"
             ],
             [
              0.5555555555555556,
              "#d8576b"
             ],
             [
              0.6666666666666666,
              "#ed7953"
             ],
             [
              0.7777777777777778,
              "#fb9f3a"
             ],
             [
              0.8888888888888888,
              "#fdca26"
             ],
             [
              1,
              "#f0f921"
             ]
            ],
            "type": "histogram2dcontour"
           }
          ],
          "mesh3d": [
           {
            "colorbar": {
             "outlinewidth": 0,
             "ticks": ""
            },
            "type": "mesh3d"
           }
          ],
          "parcoords": [
           {
            "line": {
             "colorbar": {
              "outlinewidth": 0,
              "ticks": ""
             }
            },
            "type": "parcoords"
           }
          ],
          "pie": [
           {
            "automargin": true,
            "type": "pie"
           }
          ],
          "scatter": [
           {
            "fillpattern": {
             "fillmode": "overlay",
             "size": 10,
             "solidity": 0.2
            },
            "type": "scatter"
           }
          ],
          "scatter3d": [
           {
            "line": {
             "colorbar": {
              "outlinewidth": 0,
              "ticks": ""
             }
            },
            "marker": {
             "colorbar": {
              "outlinewidth": 0,
              "ticks": ""
             }
            },
            "type": "scatter3d"
           }
          ],
          "scattercarpet": [
           {
            "marker": {
             "colorbar": {
              "outlinewidth": 0,
              "ticks": ""
             }
            },
            "type": "scattercarpet"
           }
          ],
          "scattergeo": [
           {
            "marker": {
             "colorbar": {
              "outlinewidth": 0,
              "ticks": ""
             }
            },
            "type": "scattergeo"
           }
          ],
          "scattergl": [
           {
            "marker": {
             "colorbar": {
              "outlinewidth": 0,
              "ticks": ""
             }
            },
            "type": "scattergl"
           }
          ],
          "scattermapbox": [
           {
            "marker": {
             "colorbar": {
              "outlinewidth": 0,
              "ticks": ""
             }
            },
            "type": "scattermapbox"
           }
          ],
          "scatterpolar": [
           {
            "marker": {
             "colorbar": {
              "outlinewidth": 0,
              "ticks": ""
             }
            },
            "type": "scatterpolar"
           }
          ],
          "scatterpolargl": [
           {
            "marker": {
             "colorbar": {
              "outlinewidth": 0,
              "ticks": ""
             }
            },
            "type": "scatterpolargl"
           }
          ],
          "scatterternary": [
           {
            "marker": {
             "colorbar": {
              "outlinewidth": 0,
              "ticks": ""
             }
            },
            "type": "scatterternary"
           }
          ],
          "surface": [
           {
            "colorbar": {
             "outlinewidth": 0,
             "ticks": ""
            },
            "colorscale": [
             [
              0,
              "#0d0887"
             ],
             [
              0.1111111111111111,
              "#46039f"
             ],
             [
              0.2222222222222222,
              "#7201a8"
             ],
             [
              0.3333333333333333,
              "#9c179e"
             ],
             [
              0.4444444444444444,
              "#bd3786"
             ],
             [
              0.5555555555555556,
              "#d8576b"
             ],
             [
              0.6666666666666666,
              "#ed7953"
             ],
             [
              0.7777777777777778,
              "#fb9f3a"
             ],
             [
              0.8888888888888888,
              "#fdca26"
             ],
             [
              1,
              "#f0f921"
             ]
            ],
            "type": "surface"
           }
          ],
          "table": [
           {
            "cells": {
             "fill": {
              "color": "#EBF0F8"
             },
             "line": {
              "color": "white"
             }
            },
            "header": {
             "fill": {
              "color": "#C8D4E3"
             },
             "line": {
              "color": "white"
             }
            },
            "type": "table"
           }
          ]
         },
         "layout": {
          "annotationdefaults": {
           "arrowcolor": "#2a3f5f",
           "arrowhead": 0,
           "arrowwidth": 1
          },
          "autotypenumbers": "strict",
          "coloraxis": {
           "colorbar": {
            "outlinewidth": 0,
            "ticks": ""
           }
          },
          "colorscale": {
           "diverging": [
            [
             0,
             "#8e0152"
            ],
            [
             0.1,
             "#c51b7d"
            ],
            [
             0.2,
             "#de77ae"
            ],
            [
             0.3,
             "#f1b6da"
            ],
            [
             0.4,
             "#fde0ef"
            ],
            [
             0.5,
             "#f7f7f7"
            ],
            [
             0.6,
             "#e6f5d0"
            ],
            [
             0.7,
             "#b8e186"
            ],
            [
             0.8,
             "#7fbc41"
            ],
            [
             0.9,
             "#4d9221"
            ],
            [
             1,
             "#276419"
            ]
           ],
           "sequential": [
            [
             0,
             "#0d0887"
            ],
            [
             0.1111111111111111,
             "#46039f"
            ],
            [
             0.2222222222222222,
             "#7201a8"
            ],
            [
             0.3333333333333333,
             "#9c179e"
            ],
            [
             0.4444444444444444,
             "#bd3786"
            ],
            [
             0.5555555555555556,
             "#d8576b"
            ],
            [
             0.6666666666666666,
             "#ed7953"
            ],
            [
             0.7777777777777778,
             "#fb9f3a"
            ],
            [
             0.8888888888888888,
             "#fdca26"
            ],
            [
             1,
             "#f0f921"
            ]
           ],
           "sequentialminus": [
            [
             0,
             "#0d0887"
            ],
            [
             0.1111111111111111,
             "#46039f"
            ],
            [
             0.2222222222222222,
             "#7201a8"
            ],
            [
             0.3333333333333333,
             "#9c179e"
            ],
            [
             0.4444444444444444,
             "#bd3786"
            ],
            [
             0.5555555555555556,
             "#d8576b"
            ],
            [
             0.6666666666666666,
             "#ed7953"
            ],
            [
             0.7777777777777778,
             "#fb9f3a"
            ],
            [
             0.8888888888888888,
             "#fdca26"
            ],
            [
             1,
             "#f0f921"
            ]
           ]
          },
          "colorway": [
           "#636efa",
           "#EF553B",
           "#00cc96",
           "#ab63fa",
           "#FFA15A",
           "#19d3f3",
           "#FF6692",
           "#B6E880",
           "#FF97FF",
           "#FECB52"
          ],
          "font": {
           "color": "#2a3f5f"
          },
          "geo": {
           "bgcolor": "white",
           "lakecolor": "white",
           "landcolor": "#E5ECF6",
           "showlakes": true,
           "showland": true,
           "subunitcolor": "white"
          },
          "hoverlabel": {
           "align": "left"
          },
          "hovermode": "closest",
          "mapbox": {
           "style": "light"
          },
          "paper_bgcolor": "white",
          "plot_bgcolor": "#E5ECF6",
          "polar": {
           "angularaxis": {
            "gridcolor": "white",
            "linecolor": "white",
            "ticks": ""
           },
           "bgcolor": "#E5ECF6",
           "radialaxis": {
            "gridcolor": "white",
            "linecolor": "white",
            "ticks": ""
           }
          },
          "scene": {
           "xaxis": {
            "backgroundcolor": "#E5ECF6",
            "gridcolor": "white",
            "gridwidth": 2,
            "linecolor": "white",
            "showbackground": true,
            "ticks": "",
            "zerolinecolor": "white"
           },
           "yaxis": {
            "backgroundcolor": "#E5ECF6",
            "gridcolor": "white",
            "gridwidth": 2,
            "linecolor": "white",
            "showbackground": true,
            "ticks": "",
            "zerolinecolor": "white"
           },
           "zaxis": {
            "backgroundcolor": "#E5ECF6",
            "gridcolor": "white",
            "gridwidth": 2,
            "linecolor": "white",
            "showbackground": true,
            "ticks": "",
            "zerolinecolor": "white"
           }
          },
          "shapedefaults": {
           "line": {
            "color": "#2a3f5f"
           }
          },
          "ternary": {
           "aaxis": {
            "gridcolor": "white",
            "linecolor": "white",
            "ticks": ""
           },
           "baxis": {
            "gridcolor": "white",
            "linecolor": "white",
            "ticks": ""
           },
           "bgcolor": "#E5ECF6",
           "caxis": {
            "gridcolor": "white",
            "linecolor": "white",
            "ticks": ""
           }
          },
          "title": {
           "x": 0.05
          },
          "xaxis": {
           "automargin": true,
           "gridcolor": "white",
           "linecolor": "white",
           "ticks": "",
           "title": {
            "standoff": 15
           },
           "zerolinecolor": "white",
           "zerolinewidth": 2
          },
          "yaxis": {
           "automargin": true,
           "gridcolor": "white",
           "linecolor": "white",
           "ticks": "",
           "title": {
            "standoff": 15
           },
           "zerolinecolor": "white",
           "zerolinewidth": 2
          }
         }
        },
        "title": {
         "text": "Comparison of ROC-AUC across models"
        },
        "xaxis": {
         "title": {
          "text": "Model"
         }
        },
        "yaxis": {
         "title": {
          "text": "Value"
         }
        }
       }
      }
     },
     "metadata": {},
     "output_type": "display_data"
    }
   ],
   "source": [
    "import plotly.graph_objects as go\n",
    "\n",
    "# Prepare data\n",
    "models = [\"Random Forest\", \"XGBoost\", \"Logistic Regression\", \"Decision Tree\", \"AdaBoost\", \"Light GBM\"]\n",
    "mean_roc = [mean_roc_auc, mean_roc_auc_1, mean_roc_auc_2, mean_roc_auc_3, mean_roc_auc_4, mean_roc_auc_5]\n",
    "\n",
    "# Create a list of Mean AUC ROC\n",
    "mean_roc_sorted = []\n",
    "models_sorted = []\n",
    "for model, auc in sorted(zip(models, mean_roc), key=lambda x: x[1], reverse=True):\n",
    "    models_sorted.append(model)\n",
    "    mean_roc_sorted.append(auc)\n",
    "\n",
    "# Set a single color for all bars\n",
    "color = '#94ccff'  # Color for all bars\n",
    "\n",
    "# Round mean AUC values to 2 decimal places\n",
    "mean_roc_rounded = [round(auc, 3) for auc in mean_roc_sorted]\n",
    "\n",
    "# Update the chart data\n",
    "fig = go.Figure(data=\n",
    "    go.Bar(name=\"ROC AUC\", x=models_sorted, y=mean_roc_rounded, marker=dict(color=color))\n",
    ")\n",
    "\n",
    "# Add text annotations with rounded mean AUC values above each bar\n",
    "for model, auc in zip(models_sorted, mean_roc_rounded):\n",
    "    fig.add_annotation(x=model, y=auc, text=str(auc), showarrow=False, font=dict(color='black'), yshift=10)\n",
    "\n",
    "# Format the chart\n",
    "fig.update_layout(title=\"Comparison of ROC-AUC across models\", barmode='group')\n",
    "fig.update_xaxes(title=\"Model\")\n",
    "fig.update_yaxes(title=\"Value\")\n",
    "\n",
    "# Show the chart\n",
    "fig.show()\n"
   ]
  }
 ],
 "metadata": {
  "kernelspec": {
   "display_name": "Python 3",
   "language": "python",
   "name": "python3"
  },
  "language_info": {
   "codemirror_mode": {
    "name": "ipython",
    "version": 3
   },
   "file_extension": ".py",
   "mimetype": "text/x-python",
   "name": "python",
   "nbconvert_exporter": "python",
   "pygments_lexer": "ipython3",
   "version": "3.11.0"
  }
 },
 "nbformat": 4,
 "nbformat_minor": 2
}
